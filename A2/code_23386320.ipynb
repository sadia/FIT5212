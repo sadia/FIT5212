{
  "nbformat": 4,
  "nbformat_minor": 0,
  "metadata": {
    "colab": {
      "name": "code_23386320.ipynb",
      "provenance": [],
      "collapsed_sections": [],
      "machine_shape": "hm"
    },
    "kernelspec": {
      "name": "python3",
      "display_name": "Python 3"
    },
    "language_info": {
      "name": "python"
    },
    "widgets": {
      "application/vnd.jupyter.widget-state+json": {
        "7b08ca2e9c9b4cd18963427d523022f3": {
          "model_module": "@jupyter-widgets/controls",
          "model_name": "HBoxModel",
          "model_module_version": "1.5.0",
          "state": {
            "_view_name": "HBoxView",
            "_dom_classes": [],
            "_model_name": "HBoxModel",
            "_view_module": "@jupyter-widgets/controls",
            "_model_module_version": "1.5.0",
            "_view_count": null,
            "_view_module_version": "1.5.0",
            "box_style": "",
            "layout": "IPY_MODEL_67331d4e5e36482e827daf4c1e810dc2",
            "_model_module": "@jupyter-widgets/controls",
            "children": [
              "IPY_MODEL_1eedfc51a4fc40cb9c181ab6d05b0df4",
              "IPY_MODEL_1ae8bd11469d4fd683d487de19e03b6f",
              "IPY_MODEL_ff5830b7fcd6488aa78505c17ba8a87b"
            ]
          }
        },
        "67331d4e5e36482e827daf4c1e810dc2": {
          "model_module": "@jupyter-widgets/base",
          "model_name": "LayoutModel",
          "model_module_version": "1.2.0",
          "state": {
            "_view_name": "LayoutView",
            "grid_template_rows": null,
            "right": null,
            "justify_content": null,
            "_view_module": "@jupyter-widgets/base",
            "overflow": null,
            "_model_module_version": "1.2.0",
            "_view_count": null,
            "flex_flow": null,
            "width": null,
            "min_width": null,
            "border": null,
            "align_items": null,
            "bottom": null,
            "_model_module": "@jupyter-widgets/base",
            "top": null,
            "grid_column": null,
            "overflow_y": null,
            "overflow_x": null,
            "grid_auto_flow": null,
            "grid_area": null,
            "grid_template_columns": null,
            "flex": null,
            "_model_name": "LayoutModel",
            "justify_items": null,
            "grid_row": null,
            "max_height": null,
            "align_content": null,
            "visibility": null,
            "align_self": null,
            "height": null,
            "min_height": null,
            "padding": null,
            "grid_auto_rows": null,
            "grid_gap": null,
            "max_width": null,
            "order": null,
            "_view_module_version": "1.2.0",
            "grid_template_areas": null,
            "object_position": null,
            "object_fit": null,
            "grid_auto_columns": null,
            "margin": null,
            "display": null,
            "left": null
          }
        },
        "1eedfc51a4fc40cb9c181ab6d05b0df4": {
          "model_module": "@jupyter-widgets/controls",
          "model_name": "HTMLModel",
          "model_module_version": "1.5.0",
          "state": {
            "_view_name": "HTMLView",
            "style": "IPY_MODEL_f70911b2948e4c0c9d45892ae9c3a82e",
            "_dom_classes": [],
            "description": "",
            "_model_name": "HTMLModel",
            "placeholder": "​",
            "_view_module": "@jupyter-widgets/controls",
            "_model_module_version": "1.5.0",
            "value": "100%",
            "_view_count": null,
            "_view_module_version": "1.5.0",
            "description_tooltip": null,
            "_model_module": "@jupyter-widgets/controls",
            "layout": "IPY_MODEL_1dc1937428474025847ce1e47bbfa206"
          }
        },
        "1ae8bd11469d4fd683d487de19e03b6f": {
          "model_module": "@jupyter-widgets/controls",
          "model_name": "FloatProgressModel",
          "model_module_version": "1.5.0",
          "state": {
            "_view_name": "ProgressView",
            "style": "IPY_MODEL_788afd7f160848ccba99d60b36ad0681",
            "_dom_classes": [],
            "description": "",
            "_model_name": "FloatProgressModel",
            "bar_style": "success",
            "max": 30,
            "_view_module": "@jupyter-widgets/controls",
            "_model_module_version": "1.5.0",
            "value": 30,
            "_view_count": null,
            "_view_module_version": "1.5.0",
            "orientation": "horizontal",
            "min": 0,
            "description_tooltip": null,
            "_model_module": "@jupyter-widgets/controls",
            "layout": "IPY_MODEL_355c90c07e854339bc40ada0a7470b2d"
          }
        },
        "ff5830b7fcd6488aa78505c17ba8a87b": {
          "model_module": "@jupyter-widgets/controls",
          "model_name": "HTMLModel",
          "model_module_version": "1.5.0",
          "state": {
            "_view_name": "HTMLView",
            "style": "IPY_MODEL_f82a2601539140708e6ef85927074aaf",
            "_dom_classes": [],
            "description": "",
            "_model_name": "HTMLModel",
            "placeholder": "​",
            "_view_module": "@jupyter-widgets/controls",
            "_model_module_version": "1.5.0",
            "value": " 30/30 [00:05&lt;00:00,  5.28it/s]",
            "_view_count": null,
            "_view_module_version": "1.5.0",
            "description_tooltip": null,
            "_model_module": "@jupyter-widgets/controls",
            "layout": "IPY_MODEL_ed7f53d49a5646528181686304fe7dc8"
          }
        },
        "f70911b2948e4c0c9d45892ae9c3a82e": {
          "model_module": "@jupyter-widgets/controls",
          "model_name": "DescriptionStyleModel",
          "model_module_version": "1.5.0",
          "state": {
            "_view_name": "StyleView",
            "_model_name": "DescriptionStyleModel",
            "description_width": "",
            "_view_module": "@jupyter-widgets/base",
            "_model_module_version": "1.5.0",
            "_view_count": null,
            "_view_module_version": "1.2.0",
            "_model_module": "@jupyter-widgets/controls"
          }
        },
        "1dc1937428474025847ce1e47bbfa206": {
          "model_module": "@jupyter-widgets/base",
          "model_name": "LayoutModel",
          "model_module_version": "1.2.0",
          "state": {
            "_view_name": "LayoutView",
            "grid_template_rows": null,
            "right": null,
            "justify_content": null,
            "_view_module": "@jupyter-widgets/base",
            "overflow": null,
            "_model_module_version": "1.2.0",
            "_view_count": null,
            "flex_flow": null,
            "width": null,
            "min_width": null,
            "border": null,
            "align_items": null,
            "bottom": null,
            "_model_module": "@jupyter-widgets/base",
            "top": null,
            "grid_column": null,
            "overflow_y": null,
            "overflow_x": null,
            "grid_auto_flow": null,
            "grid_area": null,
            "grid_template_columns": null,
            "flex": null,
            "_model_name": "LayoutModel",
            "justify_items": null,
            "grid_row": null,
            "max_height": null,
            "align_content": null,
            "visibility": null,
            "align_self": null,
            "height": null,
            "min_height": null,
            "padding": null,
            "grid_auto_rows": null,
            "grid_gap": null,
            "max_width": null,
            "order": null,
            "_view_module_version": "1.2.0",
            "grid_template_areas": null,
            "object_position": null,
            "object_fit": null,
            "grid_auto_columns": null,
            "margin": null,
            "display": null,
            "left": null
          }
        },
        "788afd7f160848ccba99d60b36ad0681": {
          "model_module": "@jupyter-widgets/controls",
          "model_name": "ProgressStyleModel",
          "model_module_version": "1.5.0",
          "state": {
            "_view_name": "StyleView",
            "_model_name": "ProgressStyleModel",
            "description_width": "",
            "_view_module": "@jupyter-widgets/base",
            "_model_module_version": "1.5.0",
            "_view_count": null,
            "_view_module_version": "1.2.0",
            "bar_color": null,
            "_model_module": "@jupyter-widgets/controls"
          }
        },
        "355c90c07e854339bc40ada0a7470b2d": {
          "model_module": "@jupyter-widgets/base",
          "model_name": "LayoutModel",
          "model_module_version": "1.2.0",
          "state": {
            "_view_name": "LayoutView",
            "grid_template_rows": null,
            "right": null,
            "justify_content": null,
            "_view_module": "@jupyter-widgets/base",
            "overflow": null,
            "_model_module_version": "1.2.0",
            "_view_count": null,
            "flex_flow": null,
            "width": null,
            "min_width": null,
            "border": null,
            "align_items": null,
            "bottom": null,
            "_model_module": "@jupyter-widgets/base",
            "top": null,
            "grid_column": null,
            "overflow_y": null,
            "overflow_x": null,
            "grid_auto_flow": null,
            "grid_area": null,
            "grid_template_columns": null,
            "flex": null,
            "_model_name": "LayoutModel",
            "justify_items": null,
            "grid_row": null,
            "max_height": null,
            "align_content": null,
            "visibility": null,
            "align_self": null,
            "height": null,
            "min_height": null,
            "padding": null,
            "grid_auto_rows": null,
            "grid_gap": null,
            "max_width": null,
            "order": null,
            "_view_module_version": "1.2.0",
            "grid_template_areas": null,
            "object_position": null,
            "object_fit": null,
            "grid_auto_columns": null,
            "margin": null,
            "display": null,
            "left": null
          }
        },
        "f82a2601539140708e6ef85927074aaf": {
          "model_module": "@jupyter-widgets/controls",
          "model_name": "DescriptionStyleModel",
          "model_module_version": "1.5.0",
          "state": {
            "_view_name": "StyleView",
            "_model_name": "DescriptionStyleModel",
            "description_width": "",
            "_view_module": "@jupyter-widgets/base",
            "_model_module_version": "1.5.0",
            "_view_count": null,
            "_view_module_version": "1.2.0",
            "_model_module": "@jupyter-widgets/controls"
          }
        },
        "ed7f53d49a5646528181686304fe7dc8": {
          "model_module": "@jupyter-widgets/base",
          "model_name": "LayoutModel",
          "model_module_version": "1.2.0",
          "state": {
            "_view_name": "LayoutView",
            "grid_template_rows": null,
            "right": null,
            "justify_content": null,
            "_view_module": "@jupyter-widgets/base",
            "overflow": null,
            "_model_module_version": "1.2.0",
            "_view_count": null,
            "flex_flow": null,
            "width": null,
            "min_width": null,
            "border": null,
            "align_items": null,
            "bottom": null,
            "_model_module": "@jupyter-widgets/base",
            "top": null,
            "grid_column": null,
            "overflow_y": null,
            "overflow_x": null,
            "grid_auto_flow": null,
            "grid_area": null,
            "grid_template_columns": null,
            "flex": null,
            "_model_name": "LayoutModel",
            "justify_items": null,
            "grid_row": null,
            "max_height": null,
            "align_content": null,
            "visibility": null,
            "align_self": null,
            "height": null,
            "min_height": null,
            "padding": null,
            "grid_auto_rows": null,
            "grid_gap": null,
            "max_width": null,
            "order": null,
            "_view_module_version": "1.2.0",
            "grid_template_areas": null,
            "object_position": null,
            "object_fit": null,
            "grid_auto_columns": null,
            "margin": null,
            "display": null,
            "left": null
          }
        },
        "f00375a786294b7b9f5a8833cb06be59": {
          "model_module": "@jupyter-widgets/controls",
          "model_name": "HBoxModel",
          "model_module_version": "1.5.0",
          "state": {
            "_view_name": "HBoxView",
            "_dom_classes": [],
            "_model_name": "HBoxModel",
            "_view_module": "@jupyter-widgets/controls",
            "_model_module_version": "1.5.0",
            "_view_count": null,
            "_view_module_version": "1.5.0",
            "box_style": "",
            "layout": "IPY_MODEL_0c090e7affd749a6b3f1e4efaec1ccf9",
            "_model_module": "@jupyter-widgets/controls",
            "children": [
              "IPY_MODEL_92d7510e386249838e6d45b88e7a5085",
              "IPY_MODEL_4006368a8b4141f18420fb026b196e01",
              "IPY_MODEL_e2ea21dbfcb14182b9fb8288a2607c1c"
            ]
          }
        },
        "0c090e7affd749a6b3f1e4efaec1ccf9": {
          "model_module": "@jupyter-widgets/base",
          "model_name": "LayoutModel",
          "model_module_version": "1.2.0",
          "state": {
            "_view_name": "LayoutView",
            "grid_template_rows": null,
            "right": null,
            "justify_content": null,
            "_view_module": "@jupyter-widgets/base",
            "overflow": null,
            "_model_module_version": "1.2.0",
            "_view_count": null,
            "flex_flow": null,
            "width": null,
            "min_width": null,
            "border": null,
            "align_items": null,
            "bottom": null,
            "_model_module": "@jupyter-widgets/base",
            "top": null,
            "grid_column": null,
            "overflow_y": null,
            "overflow_x": null,
            "grid_auto_flow": null,
            "grid_area": null,
            "grid_template_columns": null,
            "flex": null,
            "_model_name": "LayoutModel",
            "justify_items": null,
            "grid_row": null,
            "max_height": null,
            "align_content": null,
            "visibility": null,
            "align_self": null,
            "height": null,
            "min_height": null,
            "padding": null,
            "grid_auto_rows": null,
            "grid_gap": null,
            "max_width": null,
            "order": null,
            "_view_module_version": "1.2.0",
            "grid_template_areas": null,
            "object_position": null,
            "object_fit": null,
            "grid_auto_columns": null,
            "margin": null,
            "display": null,
            "left": null
          }
        },
        "92d7510e386249838e6d45b88e7a5085": {
          "model_module": "@jupyter-widgets/controls",
          "model_name": "HTMLModel",
          "model_module_version": "1.5.0",
          "state": {
            "_view_name": "HTMLView",
            "style": "IPY_MODEL_2a17a16d0e024943bd88cf8b5bbb7eaa",
            "_dom_classes": [],
            "description": "",
            "_model_name": "HTMLModel",
            "placeholder": "​",
            "_view_module": "@jupyter-widgets/controls",
            "_model_module_version": "1.5.0",
            "value": "100%",
            "_view_count": null,
            "_view_module_version": "1.5.0",
            "description_tooltip": null,
            "_model_module": "@jupyter-widgets/controls",
            "layout": "IPY_MODEL_8caa08f667694ba2b4197a5452f6b05b"
          }
        },
        "4006368a8b4141f18420fb026b196e01": {
          "model_module": "@jupyter-widgets/controls",
          "model_name": "FloatProgressModel",
          "model_module_version": "1.5.0",
          "state": {
            "_view_name": "ProgressView",
            "style": "IPY_MODEL_7c99370043f74c7eaedfd57c5f54f1f3",
            "_dom_classes": [],
            "description": "",
            "_model_name": "FloatProgressModel",
            "bar_style": "success",
            "max": 30,
            "_view_module": "@jupyter-widgets/controls",
            "_model_module_version": "1.5.0",
            "value": 30,
            "_view_count": null,
            "_view_module_version": "1.5.0",
            "orientation": "horizontal",
            "min": 0,
            "description_tooltip": null,
            "_model_module": "@jupyter-widgets/controls",
            "layout": "IPY_MODEL_6dbd34d1fc834175a6f63ed55732da0b"
          }
        },
        "e2ea21dbfcb14182b9fb8288a2607c1c": {
          "model_module": "@jupyter-widgets/controls",
          "model_name": "HTMLModel",
          "model_module_version": "1.5.0",
          "state": {
            "_view_name": "HTMLView",
            "style": "IPY_MODEL_72198034b5f14343a83d875354c47688",
            "_dom_classes": [],
            "description": "",
            "_model_name": "HTMLModel",
            "placeholder": "​",
            "_view_module": "@jupyter-widgets/controls",
            "_model_module_version": "1.5.0",
            "value": " 30/30 [00:05&lt;00:00,  5.62it/s]",
            "_view_count": null,
            "_view_module_version": "1.5.0",
            "description_tooltip": null,
            "_model_module": "@jupyter-widgets/controls",
            "layout": "IPY_MODEL_93fad9533ee04fa68b64d355bffe88a8"
          }
        },
        "2a17a16d0e024943bd88cf8b5bbb7eaa": {
          "model_module": "@jupyter-widgets/controls",
          "model_name": "DescriptionStyleModel",
          "model_module_version": "1.5.0",
          "state": {
            "_view_name": "StyleView",
            "_model_name": "DescriptionStyleModel",
            "description_width": "",
            "_view_module": "@jupyter-widgets/base",
            "_model_module_version": "1.5.0",
            "_view_count": null,
            "_view_module_version": "1.2.0",
            "_model_module": "@jupyter-widgets/controls"
          }
        },
        "8caa08f667694ba2b4197a5452f6b05b": {
          "model_module": "@jupyter-widgets/base",
          "model_name": "LayoutModel",
          "model_module_version": "1.2.0",
          "state": {
            "_view_name": "LayoutView",
            "grid_template_rows": null,
            "right": null,
            "justify_content": null,
            "_view_module": "@jupyter-widgets/base",
            "overflow": null,
            "_model_module_version": "1.2.0",
            "_view_count": null,
            "flex_flow": null,
            "width": null,
            "min_width": null,
            "border": null,
            "align_items": null,
            "bottom": null,
            "_model_module": "@jupyter-widgets/base",
            "top": null,
            "grid_column": null,
            "overflow_y": null,
            "overflow_x": null,
            "grid_auto_flow": null,
            "grid_area": null,
            "grid_template_columns": null,
            "flex": null,
            "_model_name": "LayoutModel",
            "justify_items": null,
            "grid_row": null,
            "max_height": null,
            "align_content": null,
            "visibility": null,
            "align_self": null,
            "height": null,
            "min_height": null,
            "padding": null,
            "grid_auto_rows": null,
            "grid_gap": null,
            "max_width": null,
            "order": null,
            "_view_module_version": "1.2.0",
            "grid_template_areas": null,
            "object_position": null,
            "object_fit": null,
            "grid_auto_columns": null,
            "margin": null,
            "display": null,
            "left": null
          }
        },
        "7c99370043f74c7eaedfd57c5f54f1f3": {
          "model_module": "@jupyter-widgets/controls",
          "model_name": "ProgressStyleModel",
          "model_module_version": "1.5.0",
          "state": {
            "_view_name": "StyleView",
            "_model_name": "ProgressStyleModel",
            "description_width": "",
            "_view_module": "@jupyter-widgets/base",
            "_model_module_version": "1.5.0",
            "_view_count": null,
            "_view_module_version": "1.2.0",
            "bar_color": null,
            "_model_module": "@jupyter-widgets/controls"
          }
        },
        "6dbd34d1fc834175a6f63ed55732da0b": {
          "model_module": "@jupyter-widgets/base",
          "model_name": "LayoutModel",
          "model_module_version": "1.2.0",
          "state": {
            "_view_name": "LayoutView",
            "grid_template_rows": null,
            "right": null,
            "justify_content": null,
            "_view_module": "@jupyter-widgets/base",
            "overflow": null,
            "_model_module_version": "1.2.0",
            "_view_count": null,
            "flex_flow": null,
            "width": null,
            "min_width": null,
            "border": null,
            "align_items": null,
            "bottom": null,
            "_model_module": "@jupyter-widgets/base",
            "top": null,
            "grid_column": null,
            "overflow_y": null,
            "overflow_x": null,
            "grid_auto_flow": null,
            "grid_area": null,
            "grid_template_columns": null,
            "flex": null,
            "_model_name": "LayoutModel",
            "justify_items": null,
            "grid_row": null,
            "max_height": null,
            "align_content": null,
            "visibility": null,
            "align_self": null,
            "height": null,
            "min_height": null,
            "padding": null,
            "grid_auto_rows": null,
            "grid_gap": null,
            "max_width": null,
            "order": null,
            "_view_module_version": "1.2.0",
            "grid_template_areas": null,
            "object_position": null,
            "object_fit": null,
            "grid_auto_columns": null,
            "margin": null,
            "display": null,
            "left": null
          }
        },
        "72198034b5f14343a83d875354c47688": {
          "model_module": "@jupyter-widgets/controls",
          "model_name": "DescriptionStyleModel",
          "model_module_version": "1.5.0",
          "state": {
            "_view_name": "StyleView",
            "_model_name": "DescriptionStyleModel",
            "description_width": "",
            "_view_module": "@jupyter-widgets/base",
            "_model_module_version": "1.5.0",
            "_view_count": null,
            "_view_module_version": "1.2.0",
            "_model_module": "@jupyter-widgets/controls"
          }
        },
        "93fad9533ee04fa68b64d355bffe88a8": {
          "model_module": "@jupyter-widgets/base",
          "model_name": "LayoutModel",
          "model_module_version": "1.2.0",
          "state": {
            "_view_name": "LayoutView",
            "grid_template_rows": null,
            "right": null,
            "justify_content": null,
            "_view_module": "@jupyter-widgets/base",
            "overflow": null,
            "_model_module_version": "1.2.0",
            "_view_count": null,
            "flex_flow": null,
            "width": null,
            "min_width": null,
            "border": null,
            "align_items": null,
            "bottom": null,
            "_model_module": "@jupyter-widgets/base",
            "top": null,
            "grid_column": null,
            "overflow_y": null,
            "overflow_x": null,
            "grid_auto_flow": null,
            "grid_area": null,
            "grid_template_columns": null,
            "flex": null,
            "_model_name": "LayoutModel",
            "justify_items": null,
            "grid_row": null,
            "max_height": null,
            "align_content": null,
            "visibility": null,
            "align_self": null,
            "height": null,
            "min_height": null,
            "padding": null,
            "grid_auto_rows": null,
            "grid_gap": null,
            "max_width": null,
            "order": null,
            "_view_module_version": "1.2.0",
            "grid_template_areas": null,
            "object_position": null,
            "object_fit": null,
            "grid_auto_columns": null,
            "margin": null,
            "display": null,
            "left": null
          }
        },
        "9268e8e2f3744b5089d6fdbd9e9379f5": {
          "model_module": "@jupyter-widgets/controls",
          "model_name": "HBoxModel",
          "model_module_version": "1.5.0",
          "state": {
            "_view_name": "HBoxView",
            "_dom_classes": [],
            "_model_name": "HBoxModel",
            "_view_module": "@jupyter-widgets/controls",
            "_model_module_version": "1.5.0",
            "_view_count": null,
            "_view_module_version": "1.5.0",
            "box_style": "",
            "layout": "IPY_MODEL_799f06d13ed7456db73a7bd3018d6eff",
            "_model_module": "@jupyter-widgets/controls",
            "children": [
              "IPY_MODEL_3b9557f0325044778306d1db79e047eb",
              "IPY_MODEL_419e487871df4b1e8e8b5b505b419c52",
              "IPY_MODEL_7f355559ca0042b18c4932ef2c06efa0"
            ]
          }
        },
        "799f06d13ed7456db73a7bd3018d6eff": {
          "model_module": "@jupyter-widgets/base",
          "model_name": "LayoutModel",
          "model_module_version": "1.2.0",
          "state": {
            "_view_name": "LayoutView",
            "grid_template_rows": null,
            "right": null,
            "justify_content": null,
            "_view_module": "@jupyter-widgets/base",
            "overflow": null,
            "_model_module_version": "1.2.0",
            "_view_count": null,
            "flex_flow": "row wrap",
            "width": "100%",
            "min_width": null,
            "border": null,
            "align_items": null,
            "bottom": null,
            "_model_module": "@jupyter-widgets/base",
            "top": null,
            "grid_column": null,
            "overflow_y": null,
            "overflow_x": null,
            "grid_auto_flow": null,
            "grid_area": null,
            "grid_template_columns": null,
            "flex": null,
            "_model_name": "LayoutModel",
            "justify_items": null,
            "grid_row": null,
            "max_height": null,
            "align_content": null,
            "visibility": null,
            "align_self": null,
            "height": null,
            "min_height": null,
            "padding": null,
            "grid_auto_rows": null,
            "grid_gap": null,
            "max_width": null,
            "order": null,
            "_view_module_version": "1.2.0",
            "grid_template_areas": null,
            "object_position": null,
            "object_fit": null,
            "grid_auto_columns": null,
            "margin": null,
            "display": "inline-flex",
            "left": null
          }
        },
        "3b9557f0325044778306d1db79e047eb": {
          "model_module": "@jupyter-widgets/controls",
          "model_name": "HTMLModel",
          "model_module_version": "1.5.0",
          "state": {
            "_view_name": "HTMLView",
            "style": "IPY_MODEL_772a6051b7f940b283167c9d8982e75f",
            "_dom_classes": [],
            "description": "",
            "_model_name": "HTMLModel",
            "placeholder": "​",
            "_view_module": "@jupyter-widgets/controls",
            "_model_module_version": "1.5.0",
            "value": "Epoch 9: 100%",
            "_view_count": null,
            "_view_module_version": "1.5.0",
            "description_tooltip": null,
            "_model_module": "@jupyter-widgets/controls",
            "layout": "IPY_MODEL_cbc3003dbfad48269cc36b185e6ffb4e"
          }
        },
        "419e487871df4b1e8e8b5b505b419c52": {
          "model_module": "@jupyter-widgets/controls",
          "model_name": "FloatProgressModel",
          "model_module_version": "1.5.0",
          "state": {
            "_view_name": "ProgressView",
            "style": "IPY_MODEL_315f742c91e44d609ed3ee61320c1724",
            "_dom_classes": [],
            "description": "",
            "_model_name": "FloatProgressModel",
            "bar_style": "success",
            "max": 544,
            "_view_module": "@jupyter-widgets/controls",
            "_model_module_version": "1.5.0",
            "value": 544,
            "_view_count": null,
            "_view_module_version": "1.5.0",
            "orientation": "horizontal",
            "min": 0,
            "description_tooltip": null,
            "_model_module": "@jupyter-widgets/controls",
            "layout": "IPY_MODEL_d004cfec691c4074b632fa9649932101"
          }
        },
        "7f355559ca0042b18c4932ef2c06efa0": {
          "model_module": "@jupyter-widgets/controls",
          "model_name": "HTMLModel",
          "model_module_version": "1.5.0",
          "state": {
            "_view_name": "HTMLView",
            "style": "IPY_MODEL_b392cf4d60054408ac0b563bc685adc2",
            "_dom_classes": [],
            "description": "",
            "_model_name": "HTMLModel",
            "placeholder": "​",
            "_view_module": "@jupyter-widgets/controls",
            "_model_module_version": "1.5.0",
            "value": " 544/544 [00:40&lt;00:00, 13.55it/s, loss=0.166, v_num=2, train_loss_step=0.186, train_loss_epoch=0.163]",
            "_view_count": null,
            "_view_module_version": "1.5.0",
            "description_tooltip": null,
            "_model_module": "@jupyter-widgets/controls",
            "layout": "IPY_MODEL_f1f243a2ba524f04afbb58851cca4355"
          }
        },
        "772a6051b7f940b283167c9d8982e75f": {
          "model_module": "@jupyter-widgets/controls",
          "model_name": "DescriptionStyleModel",
          "model_module_version": "1.5.0",
          "state": {
            "_view_name": "StyleView",
            "_model_name": "DescriptionStyleModel",
            "description_width": "",
            "_view_module": "@jupyter-widgets/base",
            "_model_module_version": "1.5.0",
            "_view_count": null,
            "_view_module_version": "1.2.0",
            "_model_module": "@jupyter-widgets/controls"
          }
        },
        "cbc3003dbfad48269cc36b185e6ffb4e": {
          "model_module": "@jupyter-widgets/base",
          "model_name": "LayoutModel",
          "model_module_version": "1.2.0",
          "state": {
            "_view_name": "LayoutView",
            "grid_template_rows": null,
            "right": null,
            "justify_content": null,
            "_view_module": "@jupyter-widgets/base",
            "overflow": null,
            "_model_module_version": "1.2.0",
            "_view_count": null,
            "flex_flow": null,
            "width": null,
            "min_width": null,
            "border": null,
            "align_items": null,
            "bottom": null,
            "_model_module": "@jupyter-widgets/base",
            "top": null,
            "grid_column": null,
            "overflow_y": null,
            "overflow_x": null,
            "grid_auto_flow": null,
            "grid_area": null,
            "grid_template_columns": null,
            "flex": null,
            "_model_name": "LayoutModel",
            "justify_items": null,
            "grid_row": null,
            "max_height": null,
            "align_content": null,
            "visibility": null,
            "align_self": null,
            "height": null,
            "min_height": null,
            "padding": null,
            "grid_auto_rows": null,
            "grid_gap": null,
            "max_width": null,
            "order": null,
            "_view_module_version": "1.2.0",
            "grid_template_areas": null,
            "object_position": null,
            "object_fit": null,
            "grid_auto_columns": null,
            "margin": null,
            "display": null,
            "left": null
          }
        },
        "315f742c91e44d609ed3ee61320c1724": {
          "model_module": "@jupyter-widgets/controls",
          "model_name": "ProgressStyleModel",
          "model_module_version": "1.5.0",
          "state": {
            "_view_name": "StyleView",
            "_model_name": "ProgressStyleModel",
            "description_width": "",
            "_view_module": "@jupyter-widgets/base",
            "_model_module_version": "1.5.0",
            "_view_count": null,
            "_view_module_version": "1.2.0",
            "bar_color": null,
            "_model_module": "@jupyter-widgets/controls"
          }
        },
        "d004cfec691c4074b632fa9649932101": {
          "model_module": "@jupyter-widgets/base",
          "model_name": "LayoutModel",
          "model_module_version": "1.2.0",
          "state": {
            "_view_name": "LayoutView",
            "grid_template_rows": null,
            "right": null,
            "justify_content": null,
            "_view_module": "@jupyter-widgets/base",
            "overflow": null,
            "_model_module_version": "1.2.0",
            "_view_count": null,
            "flex_flow": null,
            "width": null,
            "min_width": null,
            "border": null,
            "align_items": null,
            "bottom": null,
            "_model_module": "@jupyter-widgets/base",
            "top": null,
            "grid_column": null,
            "overflow_y": null,
            "overflow_x": null,
            "grid_auto_flow": null,
            "grid_area": null,
            "grid_template_columns": null,
            "flex": "2",
            "_model_name": "LayoutModel",
            "justify_items": null,
            "grid_row": null,
            "max_height": null,
            "align_content": null,
            "visibility": null,
            "align_self": null,
            "height": null,
            "min_height": null,
            "padding": null,
            "grid_auto_rows": null,
            "grid_gap": null,
            "max_width": null,
            "order": null,
            "_view_module_version": "1.2.0",
            "grid_template_areas": null,
            "object_position": null,
            "object_fit": null,
            "grid_auto_columns": null,
            "margin": null,
            "display": null,
            "left": null
          }
        },
        "b392cf4d60054408ac0b563bc685adc2": {
          "model_module": "@jupyter-widgets/controls",
          "model_name": "DescriptionStyleModel",
          "model_module_version": "1.5.0",
          "state": {
            "_view_name": "StyleView",
            "_model_name": "DescriptionStyleModel",
            "description_width": "",
            "_view_module": "@jupyter-widgets/base",
            "_model_module_version": "1.5.0",
            "_view_count": null,
            "_view_module_version": "1.2.0",
            "_model_module": "@jupyter-widgets/controls"
          }
        },
        "f1f243a2ba524f04afbb58851cca4355": {
          "model_module": "@jupyter-widgets/base",
          "model_name": "LayoutModel",
          "model_module_version": "1.2.0",
          "state": {
            "_view_name": "LayoutView",
            "grid_template_rows": null,
            "right": null,
            "justify_content": null,
            "_view_module": "@jupyter-widgets/base",
            "overflow": null,
            "_model_module_version": "1.2.0",
            "_view_count": null,
            "flex_flow": null,
            "width": null,
            "min_width": null,
            "border": null,
            "align_items": null,
            "bottom": null,
            "_model_module": "@jupyter-widgets/base",
            "top": null,
            "grid_column": null,
            "overflow_y": null,
            "overflow_x": null,
            "grid_auto_flow": null,
            "grid_area": null,
            "grid_template_columns": null,
            "flex": null,
            "_model_name": "LayoutModel",
            "justify_items": null,
            "grid_row": null,
            "max_height": null,
            "align_content": null,
            "visibility": null,
            "align_self": null,
            "height": null,
            "min_height": null,
            "padding": null,
            "grid_auto_rows": null,
            "grid_gap": null,
            "max_width": null,
            "order": null,
            "_view_module_version": "1.2.0",
            "grid_template_areas": null,
            "object_position": null,
            "object_fit": null,
            "grid_auto_columns": null,
            "margin": null,
            "display": null,
            "left": null
          }
        },
        "d066b53d59354986b7b0cb3cd7f26354": {
          "model_module": "@jupyter-widgets/controls",
          "model_name": "HBoxModel",
          "model_module_version": "1.5.0",
          "state": {
            "_view_name": "HBoxView",
            "_dom_classes": [],
            "_model_name": "HBoxModel",
            "_view_module": "@jupyter-widgets/controls",
            "_model_module_version": "1.5.0",
            "_view_count": null,
            "_view_module_version": "1.5.0",
            "box_style": "",
            "layout": "IPY_MODEL_fb096e252d8a4a65ba08cab10c4e7560",
            "_model_module": "@jupyter-widgets/controls",
            "children": [
              "IPY_MODEL_d3165e43d25c427a8a40986af2572804",
              "IPY_MODEL_e9cfec4b472647b3982057c7e037957f",
              "IPY_MODEL_18f022b541344793ba5e7a057094e72d"
            ]
          }
        },
        "fb096e252d8a4a65ba08cab10c4e7560": {
          "model_module": "@jupyter-widgets/base",
          "model_name": "LayoutModel",
          "model_module_version": "1.2.0",
          "state": {
            "_view_name": "LayoutView",
            "grid_template_rows": null,
            "right": null,
            "justify_content": null,
            "_view_module": "@jupyter-widgets/base",
            "overflow": null,
            "_model_module_version": "1.2.0",
            "_view_count": null,
            "flex_flow": null,
            "width": null,
            "min_width": null,
            "border": null,
            "align_items": null,
            "bottom": null,
            "_model_module": "@jupyter-widgets/base",
            "top": null,
            "grid_column": null,
            "overflow_y": null,
            "overflow_x": null,
            "grid_auto_flow": null,
            "grid_area": null,
            "grid_template_columns": null,
            "flex": null,
            "_model_name": "LayoutModel",
            "justify_items": null,
            "grid_row": null,
            "max_height": null,
            "align_content": null,
            "visibility": null,
            "align_self": null,
            "height": null,
            "min_height": null,
            "padding": null,
            "grid_auto_rows": null,
            "grid_gap": null,
            "max_width": null,
            "order": null,
            "_view_module_version": "1.2.0",
            "grid_template_areas": null,
            "object_position": null,
            "object_fit": null,
            "grid_auto_columns": null,
            "margin": null,
            "display": null,
            "left": null
          }
        },
        "d3165e43d25c427a8a40986af2572804": {
          "model_module": "@jupyter-widgets/controls",
          "model_name": "HTMLModel",
          "model_module_version": "1.5.0",
          "state": {
            "_view_name": "HTMLView",
            "style": "IPY_MODEL_f05825c58df64a7794f445110db37b53",
            "_dom_classes": [],
            "description": "",
            "_model_name": "HTMLModel",
            "placeholder": "​",
            "_view_module": "@jupyter-widgets/controls",
            "_model_module_version": "1.5.0",
            "value": "100%",
            "_view_count": null,
            "_view_module_version": "1.5.0",
            "description_tooltip": null,
            "_model_module": "@jupyter-widgets/controls",
            "layout": "IPY_MODEL_1ebc602e6dd04ca6b09032baaed63fb5"
          }
        },
        "e9cfec4b472647b3982057c7e037957f": {
          "model_module": "@jupyter-widgets/controls",
          "model_name": "FloatProgressModel",
          "model_module_version": "1.5.0",
          "state": {
            "_view_name": "ProgressView",
            "style": "IPY_MODEL_511d789c8e44464ba71b11e4676a3206",
            "_dom_classes": [],
            "description": "",
            "_model_name": "FloatProgressModel",
            "bar_style": "success",
            "max": 2239,
            "_view_module": "@jupyter-widgets/controls",
            "_model_module_version": "1.5.0",
            "value": 2239,
            "_view_count": null,
            "_view_module_version": "1.5.0",
            "orientation": "horizontal",
            "min": 0,
            "description_tooltip": null,
            "_model_module": "@jupyter-widgets/controls",
            "layout": "IPY_MODEL_2e1bf0ff1ca342f0810496f00dbbb7e2"
          }
        },
        "18f022b541344793ba5e7a057094e72d": {
          "model_module": "@jupyter-widgets/controls",
          "model_name": "HTMLModel",
          "model_module_version": "1.5.0",
          "state": {
            "_view_name": "HTMLView",
            "style": "IPY_MODEL_bbe37f16fdb34c6f986f3a617104101c",
            "_dom_classes": [],
            "description": "",
            "_model_name": "HTMLModel",
            "placeholder": "​",
            "_view_module": "@jupyter-widgets/controls",
            "_model_module_version": "1.5.0",
            "value": " 2239/2239 [00:57&lt;00:00, 38.37it/s]",
            "_view_count": null,
            "_view_module_version": "1.5.0",
            "description_tooltip": null,
            "_model_module": "@jupyter-widgets/controls",
            "layout": "IPY_MODEL_76f2b72c2dd9403c88479bf7b12916d8"
          }
        },
        "f05825c58df64a7794f445110db37b53": {
          "model_module": "@jupyter-widgets/controls",
          "model_name": "DescriptionStyleModel",
          "model_module_version": "1.5.0",
          "state": {
            "_view_name": "StyleView",
            "_model_name": "DescriptionStyleModel",
            "description_width": "",
            "_view_module": "@jupyter-widgets/base",
            "_model_module_version": "1.5.0",
            "_view_count": null,
            "_view_module_version": "1.2.0",
            "_model_module": "@jupyter-widgets/controls"
          }
        },
        "1ebc602e6dd04ca6b09032baaed63fb5": {
          "model_module": "@jupyter-widgets/base",
          "model_name": "LayoutModel",
          "model_module_version": "1.2.0",
          "state": {
            "_view_name": "LayoutView",
            "grid_template_rows": null,
            "right": null,
            "justify_content": null,
            "_view_module": "@jupyter-widgets/base",
            "overflow": null,
            "_model_module_version": "1.2.0",
            "_view_count": null,
            "flex_flow": null,
            "width": null,
            "min_width": null,
            "border": null,
            "align_items": null,
            "bottom": null,
            "_model_module": "@jupyter-widgets/base",
            "top": null,
            "grid_column": null,
            "overflow_y": null,
            "overflow_x": null,
            "grid_auto_flow": null,
            "grid_area": null,
            "grid_template_columns": null,
            "flex": null,
            "_model_name": "LayoutModel",
            "justify_items": null,
            "grid_row": null,
            "max_height": null,
            "align_content": null,
            "visibility": null,
            "align_self": null,
            "height": null,
            "min_height": null,
            "padding": null,
            "grid_auto_rows": null,
            "grid_gap": null,
            "max_width": null,
            "order": null,
            "_view_module_version": "1.2.0",
            "grid_template_areas": null,
            "object_position": null,
            "object_fit": null,
            "grid_auto_columns": null,
            "margin": null,
            "display": null,
            "left": null
          }
        },
        "511d789c8e44464ba71b11e4676a3206": {
          "model_module": "@jupyter-widgets/controls",
          "model_name": "ProgressStyleModel",
          "model_module_version": "1.5.0",
          "state": {
            "_view_name": "StyleView",
            "_model_name": "ProgressStyleModel",
            "description_width": "",
            "_view_module": "@jupyter-widgets/base",
            "_model_module_version": "1.5.0",
            "_view_count": null,
            "_view_module_version": "1.2.0",
            "bar_color": null,
            "_model_module": "@jupyter-widgets/controls"
          }
        },
        "2e1bf0ff1ca342f0810496f00dbbb7e2": {
          "model_module": "@jupyter-widgets/base",
          "model_name": "LayoutModel",
          "model_module_version": "1.2.0",
          "state": {
            "_view_name": "LayoutView",
            "grid_template_rows": null,
            "right": null,
            "justify_content": null,
            "_view_module": "@jupyter-widgets/base",
            "overflow": null,
            "_model_module_version": "1.2.0",
            "_view_count": null,
            "flex_flow": null,
            "width": null,
            "min_width": null,
            "border": null,
            "align_items": null,
            "bottom": null,
            "_model_module": "@jupyter-widgets/base",
            "top": null,
            "grid_column": null,
            "overflow_y": null,
            "overflow_x": null,
            "grid_auto_flow": null,
            "grid_area": null,
            "grid_template_columns": null,
            "flex": null,
            "_model_name": "LayoutModel",
            "justify_items": null,
            "grid_row": null,
            "max_height": null,
            "align_content": null,
            "visibility": null,
            "align_self": null,
            "height": null,
            "min_height": null,
            "padding": null,
            "grid_auto_rows": null,
            "grid_gap": null,
            "max_width": null,
            "order": null,
            "_view_module_version": "1.2.0",
            "grid_template_areas": null,
            "object_position": null,
            "object_fit": null,
            "grid_auto_columns": null,
            "margin": null,
            "display": null,
            "left": null
          }
        },
        "bbe37f16fdb34c6f986f3a617104101c": {
          "model_module": "@jupyter-widgets/controls",
          "model_name": "DescriptionStyleModel",
          "model_module_version": "1.5.0",
          "state": {
            "_view_name": "StyleView",
            "_model_name": "DescriptionStyleModel",
            "description_width": "",
            "_view_module": "@jupyter-widgets/base",
            "_model_module_version": "1.5.0",
            "_view_count": null,
            "_view_module_version": "1.2.0",
            "_model_module": "@jupyter-widgets/controls"
          }
        },
        "76f2b72c2dd9403c88479bf7b12916d8": {
          "model_module": "@jupyter-widgets/base",
          "model_name": "LayoutModel",
          "model_module_version": "1.2.0",
          "state": {
            "_view_name": "LayoutView",
            "grid_template_rows": null,
            "right": null,
            "justify_content": null,
            "_view_module": "@jupyter-widgets/base",
            "overflow": null,
            "_model_module_version": "1.2.0",
            "_view_count": null,
            "flex_flow": null,
            "width": null,
            "min_width": null,
            "border": null,
            "align_items": null,
            "bottom": null,
            "_model_module": "@jupyter-widgets/base",
            "top": null,
            "grid_column": null,
            "overflow_y": null,
            "overflow_x": null,
            "grid_auto_flow": null,
            "grid_area": null,
            "grid_template_columns": null,
            "flex": null,
            "_model_name": "LayoutModel",
            "justify_items": null,
            "grid_row": null,
            "max_height": null,
            "align_content": null,
            "visibility": null,
            "align_self": null,
            "height": null,
            "min_height": null,
            "padding": null,
            "grid_auto_rows": null,
            "grid_gap": null,
            "max_width": null,
            "order": null,
            "_view_module_version": "1.2.0",
            "grid_template_areas": null,
            "object_position": null,
            "object_fit": null,
            "grid_auto_columns": null,
            "margin": null,
            "display": null,
            "left": null
          }
        },
        "9ee4006bf44a4601a90bb8f1898995ac": {
          "model_module": "@jupyter-widgets/controls",
          "model_name": "HBoxModel",
          "model_module_version": "1.5.0",
          "state": {
            "_view_name": "HBoxView",
            "_dom_classes": [],
            "_model_name": "HBoxModel",
            "_view_module": "@jupyter-widgets/controls",
            "_model_module_version": "1.5.0",
            "_view_count": null,
            "_view_module_version": "1.5.0",
            "box_style": "",
            "layout": "IPY_MODEL_c952234455f042fbaf8dc6418fd1655f",
            "_model_module": "@jupyter-widgets/controls",
            "children": [
              "IPY_MODEL_bbea446529474845b4fd9246f3834600",
              "IPY_MODEL_5b283e8eedbc42a6a30a806e36f81c3f",
              "IPY_MODEL_0fc7c91a65f742e6b9bdb8870a86ec2f"
            ]
          }
        },
        "c952234455f042fbaf8dc6418fd1655f": {
          "model_module": "@jupyter-widgets/base",
          "model_name": "LayoutModel",
          "model_module_version": "1.2.0",
          "state": {
            "_view_name": "LayoutView",
            "grid_template_rows": null,
            "right": null,
            "justify_content": null,
            "_view_module": "@jupyter-widgets/base",
            "overflow": null,
            "_model_module_version": "1.2.0",
            "_view_count": null,
            "flex_flow": null,
            "width": null,
            "min_width": null,
            "border": null,
            "align_items": null,
            "bottom": null,
            "_model_module": "@jupyter-widgets/base",
            "top": null,
            "grid_column": null,
            "overflow_y": null,
            "overflow_x": null,
            "grid_auto_flow": null,
            "grid_area": null,
            "grid_template_columns": null,
            "flex": null,
            "_model_name": "LayoutModel",
            "justify_items": null,
            "grid_row": null,
            "max_height": null,
            "align_content": null,
            "visibility": null,
            "align_self": null,
            "height": null,
            "min_height": null,
            "padding": null,
            "grid_auto_rows": null,
            "grid_gap": null,
            "max_width": null,
            "order": null,
            "_view_module_version": "1.2.0",
            "grid_template_areas": null,
            "object_position": null,
            "object_fit": null,
            "grid_auto_columns": null,
            "margin": null,
            "display": null,
            "left": null
          }
        },
        "bbea446529474845b4fd9246f3834600": {
          "model_module": "@jupyter-widgets/controls",
          "model_name": "HTMLModel",
          "model_module_version": "1.5.0",
          "state": {
            "_view_name": "HTMLView",
            "style": "IPY_MODEL_0de07d5e35df4df3ac5458aedc57052c",
            "_dom_classes": [],
            "description": "",
            "_model_name": "HTMLModel",
            "placeholder": "​",
            "_view_module": "@jupyter-widgets/controls",
            "_model_module_version": "1.5.0",
            "value": "100%",
            "_view_count": null,
            "_view_module_version": "1.5.0",
            "description_tooltip": null,
            "_model_module": "@jupyter-widgets/controls",
            "layout": "IPY_MODEL_4f2c6650cc85438ca3d1e1ff5ae20eee"
          }
        },
        "5b283e8eedbc42a6a30a806e36f81c3f": {
          "model_module": "@jupyter-widgets/controls",
          "model_name": "FloatProgressModel",
          "model_module_version": "1.5.0",
          "state": {
            "_view_name": "ProgressView",
            "style": "IPY_MODEL_562bb9ed1c8c43928ae66777f5f12ea0",
            "_dom_classes": [],
            "description": "",
            "_model_name": "FloatProgressModel",
            "bar_style": "success",
            "max": 2239,
            "_view_module": "@jupyter-widgets/controls",
            "_model_module_version": "1.5.0",
            "value": 2239,
            "_view_count": null,
            "_view_module_version": "1.5.0",
            "orientation": "horizontal",
            "min": 0,
            "description_tooltip": null,
            "_model_module": "@jupyter-widgets/controls",
            "layout": "IPY_MODEL_d8ba0c62ff614b7499c23a0722a5e4b0"
          }
        },
        "0fc7c91a65f742e6b9bdb8870a86ec2f": {
          "model_module": "@jupyter-widgets/controls",
          "model_name": "HTMLModel",
          "model_module_version": "1.5.0",
          "state": {
            "_view_name": "HTMLView",
            "style": "IPY_MODEL_cbf8c411e72547fc9acb1459ed36e495",
            "_dom_classes": [],
            "description": "",
            "_model_name": "HTMLModel",
            "placeholder": "​",
            "_view_module": "@jupyter-widgets/controls",
            "_model_module_version": "1.5.0",
            "value": " 2239/2239 [01:02&lt;00:00, 34.68it/s]",
            "_view_count": null,
            "_view_module_version": "1.5.0",
            "description_tooltip": null,
            "_model_module": "@jupyter-widgets/controls",
            "layout": "IPY_MODEL_6bc838547afd4e26aa64767795f11dfc"
          }
        },
        "0de07d5e35df4df3ac5458aedc57052c": {
          "model_module": "@jupyter-widgets/controls",
          "model_name": "DescriptionStyleModel",
          "model_module_version": "1.5.0",
          "state": {
            "_view_name": "StyleView",
            "_model_name": "DescriptionStyleModel",
            "description_width": "",
            "_view_module": "@jupyter-widgets/base",
            "_model_module_version": "1.5.0",
            "_view_count": null,
            "_view_module_version": "1.2.0",
            "_model_module": "@jupyter-widgets/controls"
          }
        },
        "4f2c6650cc85438ca3d1e1ff5ae20eee": {
          "model_module": "@jupyter-widgets/base",
          "model_name": "LayoutModel",
          "model_module_version": "1.2.0",
          "state": {
            "_view_name": "LayoutView",
            "grid_template_rows": null,
            "right": null,
            "justify_content": null,
            "_view_module": "@jupyter-widgets/base",
            "overflow": null,
            "_model_module_version": "1.2.0",
            "_view_count": null,
            "flex_flow": null,
            "width": null,
            "min_width": null,
            "border": null,
            "align_items": null,
            "bottom": null,
            "_model_module": "@jupyter-widgets/base",
            "top": null,
            "grid_column": null,
            "overflow_y": null,
            "overflow_x": null,
            "grid_auto_flow": null,
            "grid_area": null,
            "grid_template_columns": null,
            "flex": null,
            "_model_name": "LayoutModel",
            "justify_items": null,
            "grid_row": null,
            "max_height": null,
            "align_content": null,
            "visibility": null,
            "align_self": null,
            "height": null,
            "min_height": null,
            "padding": null,
            "grid_auto_rows": null,
            "grid_gap": null,
            "max_width": null,
            "order": null,
            "_view_module_version": "1.2.0",
            "grid_template_areas": null,
            "object_position": null,
            "object_fit": null,
            "grid_auto_columns": null,
            "margin": null,
            "display": null,
            "left": null
          }
        },
        "562bb9ed1c8c43928ae66777f5f12ea0": {
          "model_module": "@jupyter-widgets/controls",
          "model_name": "ProgressStyleModel",
          "model_module_version": "1.5.0",
          "state": {
            "_view_name": "StyleView",
            "_model_name": "ProgressStyleModel",
            "description_width": "",
            "_view_module": "@jupyter-widgets/base",
            "_model_module_version": "1.5.0",
            "_view_count": null,
            "_view_module_version": "1.2.0",
            "bar_color": null,
            "_model_module": "@jupyter-widgets/controls"
          }
        },
        "d8ba0c62ff614b7499c23a0722a5e4b0": {
          "model_module": "@jupyter-widgets/base",
          "model_name": "LayoutModel",
          "model_module_version": "1.2.0",
          "state": {
            "_view_name": "LayoutView",
            "grid_template_rows": null,
            "right": null,
            "justify_content": null,
            "_view_module": "@jupyter-widgets/base",
            "overflow": null,
            "_model_module_version": "1.2.0",
            "_view_count": null,
            "flex_flow": null,
            "width": null,
            "min_width": null,
            "border": null,
            "align_items": null,
            "bottom": null,
            "_model_module": "@jupyter-widgets/base",
            "top": null,
            "grid_column": null,
            "overflow_y": null,
            "overflow_x": null,
            "grid_auto_flow": null,
            "grid_area": null,
            "grid_template_columns": null,
            "flex": null,
            "_model_name": "LayoutModel",
            "justify_items": null,
            "grid_row": null,
            "max_height": null,
            "align_content": null,
            "visibility": null,
            "align_self": null,
            "height": null,
            "min_height": null,
            "padding": null,
            "grid_auto_rows": null,
            "grid_gap": null,
            "max_width": null,
            "order": null,
            "_view_module_version": "1.2.0",
            "grid_template_areas": null,
            "object_position": null,
            "object_fit": null,
            "grid_auto_columns": null,
            "margin": null,
            "display": null,
            "left": null
          }
        },
        "cbf8c411e72547fc9acb1459ed36e495": {
          "model_module": "@jupyter-widgets/controls",
          "model_name": "DescriptionStyleModel",
          "model_module_version": "1.5.0",
          "state": {
            "_view_name": "StyleView",
            "_model_name": "DescriptionStyleModel",
            "description_width": "",
            "_view_module": "@jupyter-widgets/base",
            "_model_module_version": "1.5.0",
            "_view_count": null,
            "_view_module_version": "1.2.0",
            "_model_module": "@jupyter-widgets/controls"
          }
        },
        "6bc838547afd4e26aa64767795f11dfc": {
          "model_module": "@jupyter-widgets/base",
          "model_name": "LayoutModel",
          "model_module_version": "1.2.0",
          "state": {
            "_view_name": "LayoutView",
            "grid_template_rows": null,
            "right": null,
            "justify_content": null,
            "_view_module": "@jupyter-widgets/base",
            "overflow": null,
            "_model_module_version": "1.2.0",
            "_view_count": null,
            "flex_flow": null,
            "width": null,
            "min_width": null,
            "border": null,
            "align_items": null,
            "bottom": null,
            "_model_module": "@jupyter-widgets/base",
            "top": null,
            "grid_column": null,
            "overflow_y": null,
            "overflow_x": null,
            "grid_auto_flow": null,
            "grid_area": null,
            "grid_template_columns": null,
            "flex": null,
            "_model_name": "LayoutModel",
            "justify_items": null,
            "grid_row": null,
            "max_height": null,
            "align_content": null,
            "visibility": null,
            "align_self": null,
            "height": null,
            "min_height": null,
            "padding": null,
            "grid_auto_rows": null,
            "grid_gap": null,
            "max_width": null,
            "order": null,
            "_view_module_version": "1.2.0",
            "grid_template_areas": null,
            "object_position": null,
            "object_fit": null,
            "grid_auto_columns": null,
            "margin": null,
            "display": null,
            "left": null
          }
        }
      }
    },
    "accelerator": "GPU"
  },
  "cells": [
    {
      "cell_type": "code",
      "metadata": {
        "colab": {
          "base_uri": "https://localhost:8080/"
        },
        "id": "qeg9ua79lYJ9",
        "outputId": "48f6cdad-8897-4e50-9c87-d9efc2672e66"
      },
      "source": [
        "%%shell\n",
        "jupyter nbconvert --to=html '/content/code_23386320v0_1 (1).ipynb'"
      ],
      "execution_count": 26,
      "outputs": [
        {
          "output_type": "stream",
          "name": "stdout",
          "text": [
            "[NbConvertApp] Converting notebook /content/code_23386320v0_1 (1).ipynb to html\n",
            "[NbConvertApp] Writing 581845 bytes to /content/code_23386320v0_1 (1).html\n"
          ]
        },
        {
          "output_type": "execute_result",
          "data": {
            "text/plain": [
              ""
            ]
          },
          "metadata": {},
          "execution_count": 26
        }
      ]
    },
    {
      "cell_type": "markdown",
      "metadata": {
        "id": "FkFgX7iM5rZx"
      },
      "source": [
        "# Assignment 2 for FIT5212, TP5 2021\n",
        "\n",
        "**Student Name:**  Sadia Karim\n",
        "\n",
        "**Student ID:**    23386320"
      ]
    },
    {
      "cell_type": "code",
      "metadata": {
        "colab": {
          "base_uri": "https://localhost:8080/"
        },
        "id": "e3c15wPN5mAh",
        "outputId": "42c11111-7408-4ec5-837d-db4adda50912"
      },
      "source": [
        "from google.colab import drive\n",
        "drive.mount('/content/drive')"
      ],
      "execution_count": 1,
      "outputs": [
        {
          "output_type": "stream",
          "name": "stdout",
          "text": [
            "Drive already mounted at /content/drive; to attempt to forcibly remount, call drive.mount(\"/content/drive\", force_remount=True).\n"
          ]
        }
      ]
    },
    {
      "cell_type": "markdown",
      "metadata": {
        "id": "P_oMrqyO3n1E"
      },
      "source": [
        "> # Part 1"
      ]
    },
    {
      "cell_type": "code",
      "metadata": {
        "id": "Wtj6qZ8RLU_B"
      },
      "source": [
        "!pip install 'lightfm' 'implicit' 'pytorch_lightning'"
      ],
      "execution_count": null,
      "outputs": []
    },
    {
      "cell_type": "code",
      "metadata": {
        "id": "ZwlvvBY5wedC"
      },
      "source": [
        "import random\n",
        "import torch\n",
        "SEED = 99\n",
        "random.seed(SEED)\n",
        "np.random.seed(SEED)\n",
        "torch.manual_seed(SEED)\n",
        "torch.cuda.manual_seed(SEED)\n",
        "torch.backends.cudnn.deterministic = True"
      ],
      "execution_count": 28,
      "outputs": []
    },
    {
      "cell_type": "code",
      "metadata": {
        "id": "lcADAgpP6Xq7"
      },
      "source": [
        "# imports\n",
        "%matplotlib inline\n",
        "import matplotlib.pyplot as plt\n",
        "import numpy as np\n",
        "import pandas as pd\n",
        "import scipy.sparse as sparse\n",
        "\n",
        "from lightfm import LightFM\n",
        "from lightfm.evaluation import precision_at_k, auc_score\n",
        "\n",
        "import implicit \n",
        "from implicit import evaluation\n",
        "\n",
        "import torch.nn as nn\n",
        "import torch.nn.functional as F\n",
        "import torch.optim as toptim\n",
        "import tensorflow as tf\n",
        "import pytorch_lightning as pl\n",
        "from tqdm.notebook import tqdm\n",
        "from torch.utils.data import Dataset, DataLoader\n",
        "\n",
        "import warnings; warnings.simplefilter('ignore')"
      ],
      "execution_count": 29,
      "outputs": []
    },
    {
      "cell_type": "code",
      "metadata": {
        "id": "6fl_SBrM66kl"
      },
      "source": [
        "# Load training data\n",
        "train = pd.read_csv(\"/content/drive/MyDrive/FIT5212_A2/train_data.csv\")\n",
        "\n",
        "# Load validation data\n",
        "valid = pd.read_csv(\"/content/drive/MyDrive/FIT5212_A2/validation_data.csv\")\n",
        "\n",
        "# Load test data\n",
        "test = pd.read_csv(\"/content/drive/MyDrive/FIT5212_A2/test_data.csv\")\n",
        "\n",
        "# Load item information\n",
        "item_fea = pd.read_csv(\"/content/drive/MyDrive/FIT5212_A2/item_fea.csv\")\n",
        "\n",
        "# Load user information\n",
        "user_fea = pd.read_csv(\"/content/drive/MyDrive/FIT5212_A2/user_fea.csv\")"
      ],
      "execution_count": 30,
      "outputs": []
    },
    {
      "cell_type": "code",
      "metadata": {
        "colab": {
          "base_uri": "https://localhost:8080/"
        },
        "id": "NBzYNZlZ_JKk",
        "outputId": "1bf8f008-c225-4dd1-837b-0da4dd7972c7"
      },
      "source": [
        "n_ratings = len(train)\n",
        "n_items = train['item_id'].nunique()\n",
        "n_users = train['user_id'].nunique()\n",
        "\n",
        "print(f\"Number of ratings: {n_ratings}\")\n",
        "print(f\"Number of unique items: {n_items}\")\n",
        "print(f\"Number of unique users: {n_users}\")\n",
        "avg_num_ratings = round(n_ratings/n_users, 2)\n",
        "print(f\"Average number of ratings per user: {avg_num_ratings}\")\n",
        "print(f\"Average number of ratings per item: {round(n_ratings/n_items, 2)}\")\n",
        "print('Sparsity: {:4.3f}%'.format(float(train.shape[0]) / float(n_users*n_items) * 100))"
      ],
      "execution_count": 31,
      "outputs": [
        {
          "output_type": "stream",
          "name": "stdout",
          "text": [
            "Number of ratings: 28449\n",
            "Number of unique items: 2174\n",
            "Number of unique users: 2239\n",
            "Average number of ratings per user: 12.71\n",
            "Average number of ratings per item: 13.09\n",
            "Sparsity: 0.584%\n"
          ]
        }
      ]
    },
    {
      "cell_type": "code",
      "metadata": {
        "colab": {
          "base_uri": "https://localhost:8080/"
        },
        "id": "qcmoX--cSnkB",
        "outputId": "22647164-3b4b-47ab-e020-7ae1e3ad6cc6"
      },
      "source": [
        "# Remove duplicated rows\n",
        "print('Valid Duplicated rows: ' + str(valid.duplicated().sum()))\n",
        "valid = valid.drop_duplicates()\n",
        "\n",
        "print('Test Duplicated rows: ' + str(test.duplicated().sum()))\n",
        "test = test.drop_duplicates()"
      ],
      "execution_count": 32,
      "outputs": [
        {
          "output_type": "stream",
          "name": "stdout",
          "text": [
            "Valid Duplicated rows: 4925\n",
            "Test Duplicated rows: 5049\n"
          ]
        }
      ]
    },
    {
      "cell_type": "code",
      "metadata": {
        "id": "s1OYZ0xsxoDo"
      },
      "source": [
        "# get user and item feature matrices, remove first column indicating the item number\n",
        "user_fea = user_fea.iloc[: , 1:]\n",
        "item_fea = item_fea.iloc[: , 1:]"
      ],
      "execution_count": 33,
      "outputs": []
    },
    {
      "cell_type": "code",
      "metadata": {
        "id": "d06uqg0ExFHb"
      },
      "source": [
        "# create sparse user and item matrices\n",
        "sparse_user_fea = sparse.csr_matrix((user_fea))\n",
        "sparse_item_fea = sparse.csr_matrix((item_fea))"
      ],
      "execution_count": 34,
      "outputs": []
    },
    {
      "cell_type": "code",
      "metadata": {
        "id": "MOmeNkvCyMxE"
      },
      "source": [
        "# create identity matrices for users and items for use with LightFM\n",
        "user_I = np.identity(n_users)\n",
        "item_I = np.identity(n_items)"
      ],
      "execution_count": 35,
      "outputs": []
    },
    {
      "cell_type": "code",
      "metadata": {
        "id": "fkcFcfL_xuMo"
      },
      "source": [
        "# concatenate feature and identity matrices for use in LightFM\n",
        "user_I_fea = sparse.csr_matrix((np.concatenate((user_fea, user_I), axis=1)))\n",
        "item_I_fea = sparse.csr_matrix((np.concatenate((item_fea, item_I), axis=1)))"
      ],
      "execution_count": 36,
      "outputs": []
    },
    {
      "cell_type": "code",
      "metadata": {
        "id": "9L8DarIifiLJ"
      },
      "source": [
        "# group the data by user and item ids\n",
        "grouped_train = train.groupby(['user_id', 'item_id']).sum().reset_index()\n",
        "grouped_valid = valid.groupby(['user_id', 'item_id']).sum().reset_index()"
      ],
      "execution_count": 37,
      "outputs": []
    },
    {
      "cell_type": "code",
      "metadata": {
        "id": "Z7mlB0LT71Xt"
      },
      "source": [
        "# Converting the numbers to categories to be used for creating the categorical codes\n",
        "grouped_train['user_id'] = grouped_train['user_id'].astype(\"category\")\n",
        "grouped_train['item_id'] = grouped_train['item_id'].astype(\"category\")\n",
        "\n",
        "# #cat.codes creates a categorical id for the users and artists\n",
        "grouped_train['user_id'] = grouped_train['user_id'].cat.codes\n",
        "grouped_train['item_id'] = grouped_train['item_id'].cat.codes\n",
        "\n",
        "sparse_item_user_train = sparse.csr_matrix((grouped_train['rating'].astype(float), (grouped_train['item_id'], grouped_train['user_id'])))\n",
        "sparse_user_item_train = sparse.csr_matrix((grouped_train['rating'].astype(float), (grouped_train['user_id'], grouped_train['item_id'])))"
      ],
      "execution_count": 38,
      "outputs": []
    },
    {
      "cell_type": "code",
      "metadata": {
        "id": "vDdDXpoDvaxD"
      },
      "source": [
        "# Converting the numbers to categories to be used for creating the categorical codes\n",
        "grouped_valid['user_id'] = grouped_valid['user_id'].astype(\"category\")\n",
        "grouped_valid['item_id'] = grouped_valid['item_id'].astype(\"category\")\n",
        "\n",
        "# #cat.codes creates a categorical id for the users and artists\n",
        "grouped_valid['user_id'] = grouped_valid['user_id'].cat.codes\n",
        "grouped_valid['item_id'] = grouped_valid['item_id'].cat.codes\n",
        "\n",
        "sparse_item_user_valid = sparse.csr_matrix((grouped_valid['rating'].astype(float), (grouped_valid['item_id'], grouped_valid['user_id'])))\n",
        "sparse_user_item_valid = sparse.csr_matrix((grouped_valid['rating'].astype(float), (grouped_valid['user_id'], grouped_valid['item_id'])))"
      ],
      "execution_count": 39,
      "outputs": []
    },
    {
      "cell_type": "markdown",
      "metadata": {
        "id": "tSn24Iwkv-Tj"
      },
      "source": [
        "> ## ALS"
      ]
    },
    {
      "cell_type": "code",
      "metadata": {
        "id": "TTMoUAuJa6_f"
      },
      "source": [
        "def calcRank(model, user_id, data):\n",
        "    output = []\n",
        "    tmp = data[data['user_id'] == user_id]\n",
        "    n = len(tmp['item_id'])\n",
        "    rank = model.rank_items(user_id, sparse_user_item_train, tmp['item_id'])\n",
        "\n",
        "    for i in range(0, 10):\n",
        "        output.append([user_id, rank[i][0], rank[i][1]])\n",
        "    \n",
        "    return output"
      ],
      "execution_count": 40,
      "outputs": []
    },
    {
      "cell_type": "code",
      "metadata": {
        "id": "ObrViEbgzEUS"
      },
      "source": [
        "def calcTop(model, user_id, data):\n",
        "    top_pred = calcRank(model, user_id, data)[:1][0][1] # get the top predicted item \n",
        "    top_item = int(data[data['user_id'] == user_id]['item_id'][:1]) # get the top item from validation set\n",
        "    if top_pred == top_item: return 1 # if the top predicted item matches the true top item, return 1\n",
        "    else: return 0 # else return 0"
      ],
      "execution_count": 41,
      "outputs": []
    },
    {
      "cell_type": "code",
      "metadata": {
        "id": "GbWFnjBInmMt"
      },
      "source": [
        "OPENBLAS_NUM_THREADS=1 # disable multithreading for ALS"
      ],
      "execution_count": 43,
      "outputs": []
    },
    {
      "cell_type": "code",
      "metadata": {
        "colab": {
          "base_uri": "https://localhost:8080/",
          "height": 360,
          "referenced_widgets": [
            "7b08ca2e9c9b4cd18963427d523022f3",
            "67331d4e5e36482e827daf4c1e810dc2",
            "1eedfc51a4fc40cb9c181ab6d05b0df4",
            "1ae8bd11469d4fd683d487de19e03b6f",
            "ff5830b7fcd6488aa78505c17ba8a87b",
            "f70911b2948e4c0c9d45892ae9c3a82e",
            "1dc1937428474025847ce1e47bbfa206",
            "788afd7f160848ccba99d60b36ad0681",
            "355c90c07e854339bc40ada0a7470b2d",
            "f82a2601539140708e6ef85927074aaf",
            "ed7f53d49a5646528181686304fe7dc8"
          ]
        },
        "id": "azVpgVcT8Sf0",
        "outputId": "59bcd2ce-09f4-4664-e344-39a30bd5c9bf"
      },
      "source": [
        "r = [50, 100, 150, 200, 250, 300, 350]\n",
        "\n",
        "for i in r:\n",
        "    #Building the model - TRAIN\n",
        "    als_model = implicit.als.AlternatingLeastSquares(factors=50, regularization=i, iterations=30, use_gpu=False)\n",
        "    alpha_val = 75\n",
        "    data_conf = (sparse_item_user_train * alpha_val).astype('double')\n",
        "    als_model.fit(data_conf)\n",
        "\n",
        "    # calculate hit (where top item in predictions = top item in valid set)\n",
        "    output = []\n",
        "    user_list = set(test['user_id'])\n",
        "\n",
        "    for user in user_list:\n",
        "        output.append(calcTop(als_model, user, valid))\n",
        "\n",
        "    print(i, sum(output))"
      ],
      "execution_count": 116,
      "outputs": [
        {
          "output_type": "display_data",
          "data": {
            "application/vnd.jupyter.widget-view+json": {
              "model_id": "7b08ca2e9c9b4cd18963427d523022f3",
              "version_minor": 0,
              "version_major": 2
            },
            "text/plain": [
              "  0%|          | 0/30 [00:00<?, ?it/s]"
            ]
          },
          "metadata": {}
        },
        {
          "output_type": "stream",
          "name": "stdout",
          "text": [
            "50 112\n"
          ]
        },
        {
          "output_type": "display_data",
          "data": {
            "application/vnd.jupyter.widget-view+json": {
              "model_id": "d61e37d62c81415b87ed34c3785b032b",
              "version_minor": 0,
              "version_major": 2
            },
            "text/plain": [
              "  0%|          | 0/30 [00:00<?, ?it/s]"
            ]
          },
          "metadata": {}
        },
        {
          "output_type": "stream",
          "name": "stdout",
          "text": [
            "100 131\n"
          ]
        },
        {
          "output_type": "display_data",
          "data": {
            "application/vnd.jupyter.widget-view+json": {
              "model_id": "b2928738405741d8917d7241de8852de",
              "version_minor": 0,
              "version_major": 2
            },
            "text/plain": [
              "  0%|          | 0/30 [00:00<?, ?it/s]"
            ]
          },
          "metadata": {}
        },
        {
          "output_type": "stream",
          "name": "stdout",
          "text": [
            "150 143\n"
          ]
        },
        {
          "output_type": "display_data",
          "data": {
            "application/vnd.jupyter.widget-view+json": {
              "model_id": "334ea61fff6b4f4d8785d679270d6529",
              "version_minor": 0,
              "version_major": 2
            },
            "text/plain": [
              "  0%|          | 0/30 [00:00<?, ?it/s]"
            ]
          },
          "metadata": {}
        },
        {
          "output_type": "stream",
          "name": "stdout",
          "text": [
            "200 154\n"
          ]
        },
        {
          "output_type": "display_data",
          "data": {
            "application/vnd.jupyter.widget-view+json": {
              "model_id": "eb4d49a2d57e4be08785c4a1e1fbedb5",
              "version_minor": 0,
              "version_major": 2
            },
            "text/plain": [
              "  0%|          | 0/30 [00:00<?, ?it/s]"
            ]
          },
          "metadata": {}
        },
        {
          "output_type": "stream",
          "name": "stdout",
          "text": [
            "250 167\n"
          ]
        },
        {
          "output_type": "display_data",
          "data": {
            "application/vnd.jupyter.widget-view+json": {
              "model_id": "3773153211004ce1babc004d9f912fe3",
              "version_minor": 0,
              "version_major": 2
            },
            "text/plain": [
              "  0%|          | 0/30 [00:00<?, ?it/s]"
            ]
          },
          "metadata": {}
        },
        {
          "output_type": "stream",
          "name": "stdout",
          "text": [
            "300 172\n"
          ]
        },
        {
          "output_type": "display_data",
          "data": {
            "application/vnd.jupyter.widget-view+json": {
              "model_id": "02ec9daaffdd4eb2b7e790899444186e",
              "version_minor": 0,
              "version_major": 2
            },
            "text/plain": [
              "  0%|          | 0/30 [00:00<?, ?it/s]"
            ]
          },
          "metadata": {}
        },
        {
          "output_type": "stream",
          "name": "stdout",
          "text": [
            "350 167\n"
          ]
        }
      ]
    },
    {
      "cell_type": "code",
      "metadata": {
        "colab": {
          "base_uri": "https://localhost:8080/",
          "height": 49,
          "referenced_widgets": [
            "f00375a786294b7b9f5a8833cb06be59",
            "0c090e7affd749a6b3f1e4efaec1ccf9",
            "92d7510e386249838e6d45b88e7a5085",
            "4006368a8b4141f18420fb026b196e01",
            "e2ea21dbfcb14182b9fb8288a2607c1c",
            "2a17a16d0e024943bd88cf8b5bbb7eaa",
            "8caa08f667694ba2b4197a5452f6b05b",
            "7c99370043f74c7eaedfd57c5f54f1f3",
            "6dbd34d1fc834175a6f63ed55732da0b",
            "72198034b5f14343a83d875354c47688",
            "93fad9533ee04fa68b64d355bffe88a8"
          ]
        },
        "id": "-C5bAWJx9CuA",
        "outputId": "07864c56-c111-401d-b458-316ee0fb8cfd"
      },
      "source": [
        "#Building the model using the best parameters\n",
        "als_model = implicit.als.AlternatingLeastSquares(factors=50, regularization=300, iterations=50, use_gpu=False)\n",
        "alpha_val = 75\n",
        "data_conf = (sparse_item_user_train * alpha_val).astype('double')\n",
        "als_model.fit(data_conf)"
      ],
      "execution_count": 107,
      "outputs": [
        {
          "output_type": "display_data",
          "data": {
            "application/vnd.jupyter.widget-view+json": {
              "model_id": "f00375a786294b7b9f5a8833cb06be59",
              "version_minor": 0,
              "version_major": 2
            },
            "text/plain": [
              "  0%|          | 0/30 [00:00<?, ?it/s]"
            ]
          },
          "metadata": {}
        }
      ]
    },
    {
      "cell_type": "code",
      "metadata": {
        "id": "dmAvoTzKKRk1"
      },
      "source": [
        "%%capture \n",
        "# TRAIN\n",
        "output = []\n",
        "user_list = set(test['user_id'])\n",
        "\n",
        "for user in user_list:\n",
        "    output.append(calcRank(als_model, user, test))"
      ],
      "execution_count": 48,
      "outputs": []
    },
    {
      "cell_type": "code",
      "metadata": {
        "id": "9zqffytFUENO"
      },
      "source": [
        "flat_output = pd.DataFrame([item for sublist in output for item in sublist])\n",
        "flat_output.columns = ['user_id', 'item_id', 'score'] # remove score column from csv. score is here for observation only"
      ],
      "execution_count": 49,
      "outputs": []
    },
    {
      "cell_type": "code",
      "metadata": {
        "id": "XMt2ayRMrLwD"
      },
      "source": [
        "flat_output.to_csv('/content/drive/MyDrive/FIT5212_A2/als-reg350-fac50-alpha70-iter50.csv')"
      ],
      "execution_count": 50,
      "outputs": []
    },
    {
      "cell_type": "markdown",
      "metadata": {
        "id": "fgKIOn5ruF_T"
      },
      "source": [
        "> ## LMF"
      ]
    },
    {
      "cell_type": "code",
      "metadata": {
        "colab": {
          "base_uri": "https://localhost:8080/"
        },
        "id": "bBZ-ZoahvDbF",
        "outputId": "6ab885c6-cbee-4c46-830e-b33f99f7f41e"
      },
      "source": [
        "r = [10, 25, 50, 100, 150, 200, 250]\n",
        "\n",
        "for i in r:\n",
        "    #Building the model - TRAIN\n",
        "    lmf_model = implicit.lmf.LogisticMatrixFactorization(factors=150, regularization=i, iterations=30, use_gpu=False)\n",
        "    alpha_val = 50\n",
        "    data_conf = (sparse_item_user_train * alpha_val).astype('double')\n",
        "    lmf_model.fit(data_conf)\n",
        "\n",
        "    # calculate hit (where top item in predictions = top item in valid set)\n",
        "    output = []\n",
        "    user_list = set(test['user_id'])\n",
        "\n",
        "    for user in user_list:\n",
        "        output.append(calcTop(lmf_model, user, valid))\n",
        "\n",
        "    print(i, sum(output))"
      ],
      "execution_count": 137,
      "outputs": [
        {
          "output_type": "stream",
          "name": "stderr",
          "text": [
            "100%|██████████| 30/30 [00:03<00:00,  8.95it/s]\n"
          ]
        },
        {
          "output_type": "stream",
          "name": "stdout",
          "text": [
            "10 89\n"
          ]
        },
        {
          "output_type": "stream",
          "name": "stderr",
          "text": [
            "100%|██████████| 30/30 [00:03<00:00,  8.94it/s]\n"
          ]
        },
        {
          "output_type": "stream",
          "name": "stdout",
          "text": [
            "25 159\n"
          ]
        },
        {
          "output_type": "stream",
          "name": "stderr",
          "text": [
            "100%|██████████| 30/30 [00:03<00:00,  8.86it/s]\n"
          ]
        },
        {
          "output_type": "stream",
          "name": "stdout",
          "text": [
            "50 160\n"
          ]
        },
        {
          "output_type": "stream",
          "name": "stderr",
          "text": [
            "100%|██████████| 30/30 [00:03<00:00,  8.91it/s]\n"
          ]
        },
        {
          "output_type": "stream",
          "name": "stdout",
          "text": [
            "100 136\n"
          ]
        },
        {
          "output_type": "stream",
          "name": "stderr",
          "text": [
            "100%|██████████| 30/30 [00:03<00:00,  8.92it/s]\n"
          ]
        },
        {
          "output_type": "stream",
          "name": "stdout",
          "text": [
            "150 123\n"
          ]
        },
        {
          "output_type": "stream",
          "name": "stderr",
          "text": [
            "100%|██████████| 30/30 [00:03<00:00,  8.94it/s]\n"
          ]
        },
        {
          "output_type": "stream",
          "name": "stdout",
          "text": [
            "200 83\n"
          ]
        },
        {
          "output_type": "stream",
          "name": "stderr",
          "text": [
            "100%|██████████| 30/30 [00:03<00:00,  8.88it/s]\n"
          ]
        },
        {
          "output_type": "stream",
          "name": "stdout",
          "text": [
            "250 84\n"
          ]
        }
      ]
    },
    {
      "cell_type": "code",
      "metadata": {
        "colab": {
          "base_uri": "https://localhost:8080/"
        },
        "id": "bFrqSOjCuFk2",
        "outputId": "f4de4758-c870-4ef0-fc07-afff9d682640"
      },
      "source": [
        "#Building the model on the best parameters\n",
        "lmf_model = implicit.lmf.LogisticMatrixFactorization(factors=150, regularization=50, iterations=50, use_gpu=False, random_state=SEED)\n",
        "alpha_val = 50\n",
        "data_conf = (sparse_item_user_train * alpha_val).astype('double')\n",
        "lmf_model.fit(data_conf)"
      ],
      "execution_count": 138,
      "outputs": [
        {
          "output_type": "stream",
          "name": "stderr",
          "text": [
            "100%|██████████| 50/50 [00:05<00:00,  8.98it/s]\n"
          ]
        }
      ]
    },
    {
      "cell_type": "code",
      "metadata": {
        "id": "vSb8yN6Jxace"
      },
      "source": [
        "%%capture \n",
        "# Produce test data predictions\n",
        "output = []\n",
        "user_list = set(test['user_id'])\n",
        "\n",
        "for user in user_list:\n",
        "    output.append(calcRank(lmf_model, user, test))"
      ],
      "execution_count": 139,
      "outputs": []
    },
    {
      "cell_type": "code",
      "metadata": {
        "id": "yefcXkHtxjXQ"
      },
      "source": [
        "flat_output = pd.DataFrame([item for sublist in output for item in sublist])\n",
        "flat_output.columns = ['user_id', 'item_id', 'score'] # remove score column from csv. score is displayed for observation only"
      ],
      "execution_count": 140,
      "outputs": []
    },
    {
      "cell_type": "code",
      "metadata": {
        "id": "GupzEMri4QC5"
      },
      "source": [
        "flat_output.to_csv('/content/drive/MyDrive/FIT5212_A2/sadia13-lmf-50fac50reg50iter50alpha.csv')"
      ],
      "execution_count": 141,
      "outputs": []
    },
    {
      "cell_type": "markdown",
      "metadata": {
        "id": "X23cD0Erf8kv"
      },
      "source": [
        "> ## LightFM"
      ]
    },
    {
      "cell_type": "code",
      "metadata": {
        "id": "970nO92YXYrL"
      },
      "source": [
        "def rank_recommendations(model, data, user_ids, hit=False):\n",
        "\n",
        "    #build a structure to store user scores for each item\n",
        "    all_scores = []\n",
        "\n",
        "    #iterate through the group and build the scores\n",
        "    for user_id in user_ids:\n",
        "        tmp = data[data['user_id']==user_id]\n",
        "        lis = np.asarray(tmp['item_id'])\n",
        "\n",
        "        scores = model.predict(user_id, item_ids=lis, item_features=sparse_item_fea, user_features=sparse_user_fea)\n",
        "\n",
        "        if hit==True: # check if top predicted item == top item in valid set\n",
        "            top_pred = lis[np.argsort(-scores)][:1] # get the top predicted item\n",
        "            top_item = int(data[data['user_id'] == user_id]['item_id'][:1]) # get the top item from validation set\n",
        "            if top_pred == top_item: return 1 # if the top predicted item matches the true top item, return 1\n",
        "            else: return 0 # else return 0\n",
        "        \n",
        "        top_items_for_user = lis[np.argsort(-scores)]\n",
        "        top_ten = top_items_for_user[:10]\n",
        "        # top_ten = top_items_for_user\n",
        "        \n",
        "        for x in top_ten:\n",
        "            all_scores.append([user_id, x])\n",
        "    return all_scores"
      ],
      "execution_count": 54,
      "outputs": []
    },
    {
      "cell_type": "code",
      "metadata": {
        "id": "Kc5uLjRURpZt"
      },
      "source": [
        "NUM_THREADS = 4\n",
        "NUM_COMPONENTS = 150\n",
        "NUM_EPOCHS = 100\n",
        "ITEM_ALPHA = 1e-10\n",
        "LR = 0.05\n",
        "\n",
        "# WARP loss has the best performance\n",
        "model = LightFM(loss='warp',\n",
        "                item_alpha=ITEM_ALPHA,\n",
        "                no_components=NUM_COMPONENTS,\n",
        "                learning_rate=LR,\n",
        "                random_state=SEED)\n",
        "\n",
        "# with user and item features\n",
        "model = model.fit(sparse_user_item_train, item_features=sparse_item_fea, user_features=sparse_user_fea, epochs=NUM_EPOCHS, num_threads=NUM_THREADS)"
      ],
      "execution_count": 55,
      "outputs": []
    },
    {
      "cell_type": "code",
      "metadata": {
        "colab": {
          "base_uri": "https://localhost:8080/"
        },
        "id": "2ZuFfJat9MoA",
        "outputId": "b73f3004-e469-4690-df4b-4b60971deca4"
      },
      "source": [
        "# count number of times the top predicted item == top valid item\n",
        "output = []\n",
        "user_list = set(test['user_id'])\n",
        "\n",
        "\n",
        "for user in user_list:\n",
        "    output.append(rank_recommendations(model, valid, user_list, hit=True))\n",
        "\n",
        "print(sum(output))"
      ],
      "execution_count": 56,
      "outputs": [
        {
          "output_type": "stream",
          "name": "stdout",
          "text": [
            "0\n"
          ]
        }
      ]
    },
    {
      "cell_type": "code",
      "metadata": {
        "id": "A5JPrDdo_F2c"
      },
      "source": [
        "# produce test data predictions\n",
        "final = rank_recommendations(model=model, data=test, user_ids=user_list)"
      ],
      "execution_count": 57,
      "outputs": []
    },
    {
      "cell_type": "code",
      "metadata": {
        "id": "VcIYokDTGB8d"
      },
      "source": [
        "final = pd.DataFrame(final)\n",
        "final.columns = ['user_id', 'item_id']"
      ],
      "execution_count": 58,
      "outputs": []
    },
    {
      "cell_type": "code",
      "metadata": {
        "id": "A2538ca0GKFl"
      },
      "source": [
        "final.to_csv('/content/drive/MyDrive/FIT5212_A2/sadia-lightfm-seed99-100iters_4.csv')"
      ],
      "execution_count": 59,
      "outputs": []
    },
    {
      "cell_type": "markdown",
      "metadata": {
        "id": "zXhaZ4VcFWIR"
      },
      "source": [
        "> ## Neural Collaborative Filtering"
      ]
    },
    {
      "cell_type": "code",
      "metadata": {
        "id": "0izoQYa9PW-L"
      },
      "source": [
        "# Reload validation data for original validation dataset (including duplicates)\n",
        "valid = pd.read_csv(\"/content/drive/MyDrive/FIT5212_A2/validation_data.csv\")"
      ],
      "execution_count": 15,
      "outputs": []
    },
    {
      "cell_type": "code",
      "metadata": {
        "id": "GHb7tOuZFa6c"
      },
      "source": [
        "# create copy of training and validation data\n",
        "df_train = train.copy()\n",
        "df_valid = pd.DataFrame(columns=['user_id', 'item_id', 'rating'])"
      ],
      "execution_count": 16,
      "outputs": []
    },
    {
      "cell_type": "code",
      "metadata": {
        "id": "y3UYkB_nFaij"
      },
      "source": [
        "# create a new training dataset with half the negative data from the validation set\n",
        "user_list = set(test['user_id'])\n",
        "\n",
        "negatives = []\n",
        "for user in user_list:\n",
        "    user_idx = valid.loc[(valid['user_id']==user) & (valid['rating']==1)].index[0] # location of user in valid data\n",
        "    v_user = valid[valid['user_id'] == user] # get the validation data for the user\n",
        "    neg_valid_items = v_user[v_user['rating']==0]['item_id'] # get all data with 0 rating\n",
        "\n",
        "    full = len(neg_valid_items) # total number of negative ratings\n",
        "    half = full//2\n",
        "    \n",
        "    # create a new validation dataset with only the first half of the validation data\n",
        "    df_valid = df_valid.append(valid[user_idx : user_idx + half + 1], ignore_index=True) \n",
        "    # create a new training dataset with the second half of the validation data (negative data)\n",
        "    df_train = df_train.append(valid[user_idx + half + 1 : user_idx + full + 1], ignore_index=True)"
      ],
      "execution_count": 17,
      "outputs": []
    },
    {
      "cell_type": "code",
      "metadata": {
        "colab": {
          "base_uri": "https://localhost:8080/"
        },
        "id": "tG_YAs_2FaZ1",
        "outputId": "38bd729c-c1ec-497b-b130-a6ef930036c2"
      },
      "source": [
        "df_valid['rating'].value_counts() # confirm every user (2239) has a positive rating "
      ],
      "execution_count": 18,
      "outputs": [
        {
          "output_type": "execute_result",
          "data": {
            "text/plain": [
              "0    109711\n",
              "1      2239\n",
              "Name: rating, dtype: int64"
            ]
          },
          "metadata": {},
          "execution_count": 18
        }
      ]
    },
    {
      "cell_type": "code",
      "metadata": {
        "colab": {
          "base_uri": "https://localhost:8080/",
          "height": 419
        },
        "id": "6IpykgM9NZ3o",
        "outputId": "3322f35a-0358-466e-d0dd-798af67898cf"
      },
      "source": [
        "# shuffle the training data\n",
        "df_train = df_train.sample(frac=1).reset_index(drop=True)\n",
        "df_train"
      ],
      "execution_count": 19,
      "outputs": [
        {
          "output_type": "execute_result",
          "data": {
            "text/html": [
              "<div>\n",
              "<style scoped>\n",
              "    .dataframe tbody tr th:only-of-type {\n",
              "        vertical-align: middle;\n",
              "    }\n",
              "\n",
              "    .dataframe tbody tr th {\n",
              "        vertical-align: top;\n",
              "    }\n",
              "\n",
              "    .dataframe thead th {\n",
              "        text-align: right;\n",
              "    }\n",
              "</style>\n",
              "<table border=\"1\" class=\"dataframe\">\n",
              "  <thead>\n",
              "    <tr style=\"text-align: right;\">\n",
              "      <th></th>\n",
              "      <th>user_id</th>\n",
              "      <th>item_id</th>\n",
              "      <th>rating</th>\n",
              "    </tr>\n",
              "  </thead>\n",
              "  <tbody>\n",
              "    <tr>\n",
              "      <th>0</th>\n",
              "      <td>429</td>\n",
              "      <td>299</td>\n",
              "      <td>0</td>\n",
              "    </tr>\n",
              "    <tr>\n",
              "      <th>1</th>\n",
              "      <td>631</td>\n",
              "      <td>1041</td>\n",
              "      <td>0</td>\n",
              "    </tr>\n",
              "    <tr>\n",
              "      <th>2</th>\n",
              "      <td>2010</td>\n",
              "      <td>4</td>\n",
              "      <td>1</td>\n",
              "    </tr>\n",
              "    <tr>\n",
              "      <th>3</th>\n",
              "      <td>1405</td>\n",
              "      <td>1492</td>\n",
              "      <td>0</td>\n",
              "    </tr>\n",
              "    <tr>\n",
              "      <th>4</th>\n",
              "      <td>410</td>\n",
              "      <td>279</td>\n",
              "      <td>0</td>\n",
              "    </tr>\n",
              "    <tr>\n",
              "      <th>...</th>\n",
              "      <td>...</td>\n",
              "      <td>...</td>\n",
              "      <td>...</td>\n",
              "    </tr>\n",
              "    <tr>\n",
              "      <th>140394</th>\n",
              "      <td>699</td>\n",
              "      <td>2076</td>\n",
              "      <td>0</td>\n",
              "    </tr>\n",
              "    <tr>\n",
              "      <th>140395</th>\n",
              "      <td>1857</td>\n",
              "      <td>954</td>\n",
              "      <td>1</td>\n",
              "    </tr>\n",
              "    <tr>\n",
              "      <th>140396</th>\n",
              "      <td>1173</td>\n",
              "      <td>1837</td>\n",
              "      <td>0</td>\n",
              "    </tr>\n",
              "    <tr>\n",
              "      <th>140397</th>\n",
              "      <td>571</td>\n",
              "      <td>550</td>\n",
              "      <td>0</td>\n",
              "    </tr>\n",
              "    <tr>\n",
              "      <th>140398</th>\n",
              "      <td>1851</td>\n",
              "      <td>85</td>\n",
              "      <td>1</td>\n",
              "    </tr>\n",
              "  </tbody>\n",
              "</table>\n",
              "<p>140399 rows × 3 columns</p>\n",
              "</div>"
            ],
            "text/plain": [
              "        user_id  item_id  rating\n",
              "0           429      299       0\n",
              "1           631     1041       0\n",
              "2          2010        4       1\n",
              "3          1405     1492       0\n",
              "4           410      279       0\n",
              "...         ...      ...     ...\n",
              "140394      699     2076       0\n",
              "140395     1857      954       1\n",
              "140396     1173     1837       0\n",
              "140397      571      550       0\n",
              "140398     1851       85       1\n",
              "\n",
              "[140399 rows x 3 columns]"
            ]
          },
          "metadata": {},
          "execution_count": 19
        }
      ]
    },
    {
      "cell_type": "code",
      "metadata": {
        "colab": {
          "base_uri": "https://localhost:8080/"
        },
        "id": "dwyLkjBgPRhW",
        "outputId": "c79d4fb1-0642-4e14-91ac-facd73de4a20"
      },
      "source": [
        "# drop duplicated rows from new train and valid, and test datasets\n",
        "print('Train Duplicated rows: ' + str(df_train.duplicated().sum()))\n",
        "df_train.drop_duplicates(inplace=True)\n",
        "\n",
        "print('Valid Duplicated rows: ' + str(df_valid.duplicated().sum()))\n",
        "df_valid.drop_duplicates(inplace=True)\n",
        "\n",
        "print('Test Duplicated rows: ' + str(test.duplicated().sum()))\n",
        "test.drop_duplicates(inplace=True)"
      ],
      "execution_count": 20,
      "outputs": [
        {
          "output_type": "stream",
          "name": "stdout",
          "text": [
            "Train Duplicated rows: 1219\n",
            "Valid Duplicated rows: 1141\n",
            "Test Duplicated rows: 0\n"
          ]
        }
      ]
    },
    {
      "cell_type": "code",
      "metadata": {
        "id": "OmvowuwTPqbx"
      },
      "source": [
        "# create new grouped datasets\n",
        "grouped_train = df_train.groupby(['user_id', 'item_id']).sum().reset_index()\n",
        "grouped_valid = df_valid.groupby(['user_id', 'item_id']).sum().reset_index()"
      ],
      "execution_count": 21,
      "outputs": []
    },
    {
      "cell_type": "code",
      "metadata": {
        "id": "eLCxs4uTPuMx"
      },
      "source": [
        "# Converting the numbers to categories to be used for creating the categorical codes to avoid using long hash keys \n",
        "grouped_train['user_id'] = grouped_train['user_id'].astype(\"category\")\n",
        "grouped_train['item_id'] = grouped_train['item_id'].astype(\"category\")\n",
        "\n",
        "# #cat.codes creates a categorical id for the users and artists\n",
        "grouped_train['user_id'] = grouped_train['user_id'].cat.codes\n",
        "grouped_train['item_id'] = grouped_train['item_id'].cat.codes\n",
        "\n",
        "sparse_item_user_train = sparse.csr_matrix((grouped_train['rating'].astype(float), (grouped_train['item_id'], grouped_train['user_id'])))\n",
        "sparse_user_item_train = sparse.csr_matrix((grouped_train['rating'].astype(float), (grouped_train['user_id'], grouped_train['item_id'])))"
      ],
      "execution_count": 22,
      "outputs": []
    },
    {
      "cell_type": "code",
      "metadata": {
        "id": "cursL-_MPxkf"
      },
      "source": [
        "# dataloader for NCF\n",
        "class trainDataLoader(Dataset):\n",
        "    def __init__(self, data, all_item_ids):\n",
        "        self.user_id, self.item_id, self.rating = self.get_dataset(data, all_item_ids)\n",
        "\n",
        "    def __len__(self):\n",
        "        return len(self.user_id)\n",
        "  \n",
        "    def __getitem__(self, idx):\n",
        "        return self.user_id[idx], self.item_id[idx], self.rating[idx]\n",
        "\n",
        "    def get_dataset(self, data, all_item_ids):\n",
        "        users = data['user_id']\n",
        "        items = data['item_id']\n",
        "        ratings = data['rating']\n",
        "        return torch.LongTensor(users), torch.LongTensor(items), torch.FloatTensor(ratings)"
      ],
      "execution_count": 23,
      "outputs": []
    },
    {
      "cell_type": "code",
      "metadata": {
        "id": "PiJRXHUQP1_L"
      },
      "source": [
        "def getTop10(userlist, itemlist, model):\n",
        "    top10 = []\n",
        "    userlist = torch.from_numpy(np.asarray(userlist, dtype=int)) # convert userlist to tensor\n",
        "    itemlist = torch.from_numpy(np.asarray(itemlist, dtype=int)) # convert itemlist to tensor\n",
        "\n",
        "    # calculate predictions\n",
        "    predicted_labels = np.squeeze(model(torch.tensor(userlist).cuda(), torch.tensor(itemlist).cuda()).cpu().detach().numpy())\n",
        "\n",
        "    # get top 10 predicted items\n",
        "    res = list(zip(userlist.numpy(), itemlist.numpy(), predicted_labels))\n",
        "    res_df = list(sorted(res, key=lambda x:x[2], reverse=True))[:10]\n",
        "    top10.append(res_df)\n",
        "\n",
        "    return top10"
      ],
      "execution_count": 24,
      "outputs": []
    },
    {
      "cell_type": "code",
      "metadata": {
        "id": "Kj0NAgWqQE4w"
      },
      "source": [
        "# function to get the feature vectors for each item and user\n",
        "def getFeatureVec(inputs, input_type):\n",
        "    features = []\n",
        "\n",
        "    if input_type == 'user':\n",
        "        for uid in inputs:\n",
        "            uid = uid.item()\n",
        "            features.append(user_fea.loc[uid].values)\n",
        "        return np.asarray(features, dtype=float)\n",
        "\n",
        "    if input_type == 'item':\n",
        "        for iid in inputs:\n",
        "            iid = iid.item()\n",
        "            features.append(item_fea.loc[iid].values)\n",
        "        return np.asarray(features, dtype=float)"
      ],
      "execution_count": 25,
      "outputs": []
    },
    {
      "cell_type": "code",
      "metadata": {
        "id": "xgy4GkiwQMXp"
      },
      "source": [
        "class NCF(pl.LightningModule):\n",
        "    \"\"\" Neural Collaborative Filtering (NCF)\n",
        "    \"\"\"\n",
        "    \n",
        "    def __init__(self, num_users, num_items, data, all_item_ids):\n",
        "        super().__init__()\n",
        "\n",
        "        self.user_embedding = nn.Embedding(num_embeddings=n_users, embedding_dim=128)\n",
        "        self.item_embedding = nn.Embedding(num_embeddings=n_items, embedding_dim=128)\n",
        "        \n",
        "        self.fc1 = nn.Linear(in_features=556, out_features=256)\n",
        "        # self.fc2 = nn.Linear(in_features=256, out_features=64)\n",
        "        self.output = nn.Linear(in_features=256, out_features=1)\n",
        "        \n",
        "        self.data = data\n",
        "        self.all_item_ids = all_item_ids\n",
        "\n",
        "    def forward(self, user_input, item_input):\n",
        "        # Pass through embedding layers\n",
        "        user_embedded = self.user_embedding(user_input)\n",
        "\n",
        "        item_embedded = self.item_embedding(item_input)\n",
        "\n",
        "        # pass the user list to CPU, pass resulting feature vector back to GPU\n",
        "        user_feats = torch.FloatTensor(getFeatureVec(user_input.cpu(), 'user')).cuda()\n",
        "\n",
        "        # pass the item list to CPU, pass resulting feature vector back to GPU\n",
        "        item_feats = torch.FloatTensor(getFeatureVec(item_input.cpu(), 'item')).cuda()\n",
        "\n",
        "        # Concat the two embedding layers with the feature matrices\n",
        "        vector = torch.cat([user_embedded, item_embedded, user_feats, item_feats], dim=-1).unsqueeze(1)\n",
        "        \n",
        "        # Pass through dense layer\n",
        "        vector = torch.relu(self.fc1(vector))\n",
        "        # vector = torch.relu(self.fc2(vector))\n",
        "\n",
        "        # Output layer\n",
        "        pred = nn.Sigmoid()(self.output(vector))\n",
        "\n",
        "        return pred\n",
        "    \n",
        "    def training_step(self, batch, batch_idx):\n",
        "        train_outs = []\n",
        "        user_input, item_input, rating = batch\n",
        "        prob = self(user_input, item_input)\n",
        "        loss = nn.MSELoss()(prob, rating.view(-1, 1).float())\n",
        "        self.log(\"train_loss\", loss, on_step=True, on_epoch=True, prog_bar=True, logger=True)\n",
        "        return loss\n",
        "\n",
        "    def configure_optimizers(self):\n",
        "        return torch.optim.Adam(self.parameters())\n",
        "\n",
        "    def train_dataloader(self):\n",
        "        return DataLoader(trainDataLoader(self.data, self.all_item_ids), batch_size=256)"
      ],
      "execution_count": 44,
      "outputs": []
    },
    {
      "cell_type": "code",
      "metadata": {
        "id": "z-1nkp9uR7xK"
      },
      "source": [
        "all_item_ids = list(set(train['item_id']))"
      ],
      "execution_count": 27,
      "outputs": []
    },
    {
      "cell_type": "code",
      "metadata": {
        "colab": {
          "base_uri": "https://localhost:8080/",
          "height": 321,
          "referenced_widgets": [
            "9268e8e2f3744b5089d6fdbd9e9379f5",
            "799f06d13ed7456db73a7bd3018d6eff",
            "3b9557f0325044778306d1db79e047eb",
            "419e487871df4b1e8e8b5b505b419c52",
            "7f355559ca0042b18c4932ef2c06efa0",
            "772a6051b7f940b283167c9d8982e75f",
            "cbc3003dbfad48269cc36b185e6ffb4e",
            "315f742c91e44d609ed3ee61320c1724",
            "d004cfec691c4074b632fa9649932101",
            "b392cf4d60054408ac0b563bc685adc2",
            "f1f243a2ba524f04afbb58851cca4355"
          ]
        },
        "id": "2ucmt8hFQhit",
        "outputId": "02dc860f-5106-4852-cd51-632ff48e477b"
      },
      "source": [
        "# train NCF model\n",
        "ncf_model = NCF(n_users, n_items, df_train, all_item_ids)\n",
        "trainer = pl.Trainer(max_epochs=10, gpus=1, progress_bar_refresh_rate=5, deterministic=True)\n",
        "\n",
        "trainer.fit(ncf_model)"
      ],
      "execution_count": 45,
      "outputs": [
        {
          "output_type": "stream",
          "name": "stderr",
          "text": [
            "GPU available: True, used: True\n",
            "TPU available: False, using: 0 TPU cores\n",
            "IPU available: False, using: 0 IPUs\n",
            "LOCAL_RANK: 0 - CUDA_VISIBLE_DEVICES: [0]\n",
            "\n",
            "  | Name           | Type      | Params\n",
            "---------------------------------------------\n",
            "0 | user_embedding | Embedding | 286 K \n",
            "1 | item_embedding | Embedding | 278 K \n",
            "2 | fc1            | Linear    | 142 K \n",
            "3 | output         | Linear    | 257   \n",
            "---------------------------------------------\n",
            "707 K     Trainable params\n",
            "0         Non-trainable params\n",
            "707 K     Total params\n",
            "2.831     Total estimated model params size (MB)\n"
          ]
        },
        {
          "output_type": "display_data",
          "data": {
            "application/vnd.jupyter.widget-view+json": {
              "model_id": "9268e8e2f3744b5089d6fdbd9e9379f5",
              "version_minor": 0,
              "version_major": 2
            },
            "text/plain": [
              "Training: -1it [00:00, ?it/s]"
            ]
          },
          "metadata": {}
        }
      ]
    },
    {
      "cell_type": "code",
      "metadata": {
        "colab": {
          "base_uri": "https://localhost:8080/",
          "height": 49,
          "referenced_widgets": [
            "d066b53d59354986b7b0cb3cd7f26354",
            "fb096e252d8a4a65ba08cab10c4e7560",
            "d3165e43d25c427a8a40986af2572804",
            "e9cfec4b472647b3982057c7e037957f",
            "18f022b541344793ba5e7a057094e72d",
            "f05825c58df64a7794f445110db37b53",
            "1ebc602e6dd04ca6b09032baaed63fb5",
            "511d789c8e44464ba71b11e4676a3206",
            "2e1bf0ff1ca342f0810496f00dbbb7e2",
            "bbe37f16fdb34c6f986f3a617104101c",
            "76f2b72c2dd9403c88479bf7b12916d8"
          ]
        },
        "id": "rHPXmedGQnRo",
        "outputId": "358f6dc5-a922-4fbd-f69e-20c8476ac873"
      },
      "source": [
        "# calculate hit rate for validation set\n",
        "ncf_model.cuda() # move model to GPU\n",
        "user_ids = set(df_valid['user_id'])\n",
        "\n",
        "top10 = []\n",
        "hits = []\n",
        "\n",
        "# get top 10 items for all users\n",
        "for user in tqdm(user_ids):\n",
        "    userlist = df_valid[df_valid['user_id']==user]['user_id']\n",
        "    itemlist = df_valid[df_valid['user_id']==user]['item_id']\n",
        "    preds = getTop10(np.asarray(userlist, dtype=int), np.asarray(itemlist, dtype=int), ncf_model)\n",
        "    top10.append(preds)"
      ],
      "execution_count": 33,
      "outputs": [
        {
          "output_type": "display_data",
          "data": {
            "application/vnd.jupyter.widget-view+json": {
              "model_id": "d066b53d59354986b7b0cb3cd7f26354",
              "version_minor": 0,
              "version_major": 2
            },
            "text/plain": [
              "  0%|          | 0/2239 [00:00<?, ?it/s]"
            ]
          },
          "metadata": {}
        }
      ]
    },
    {
      "cell_type": "code",
      "metadata": {
        "colab": {
          "base_uri": "https://localhost:8080/"
        },
        "id": "DDTr3_0sQ49C",
        "outputId": "0d6894d3-060e-438c-a068-629390fdc673"
      },
      "source": [
        "top10valid = [item for sublist in top10 for item in sublist] # flatten double list\n",
        "top10valid = [item for sublist in top10valid for item in sublist] # flatten double list\n",
        "top10valid = pd.DataFrame(top10valid, columns=['user_id', 'item_id', 'rating']) # convert list to df\n",
        "\n",
        "output = []\n",
        "for user in user_ids:\n",
        "    top_pred = int(top10valid[top10valid['user_id']==user][:1]['item_id']) # get the top predicted item\n",
        "    top_item = int(df_valid[df_valid['user_id'] == user]['item_id'][:1]) # get the top item from validation set\n",
        "    if top_pred == top_item: \n",
        "        output.append(1) # if the top predicted item matches the true top item, return 1\n",
        "    else: \n",
        "        output.append(0) # else return 0\n",
        "\n",
        "print(sum(output))"
      ],
      "execution_count": 46,
      "outputs": [
        {
          "output_type": "stream",
          "name": "stdout",
          "text": [
            "41\n"
          ]
        }
      ]
    },
    {
      "cell_type": "code",
      "metadata": {
        "colab": {
          "base_uri": "https://localhost:8080/",
          "height": 49,
          "referenced_widgets": [
            "9ee4006bf44a4601a90bb8f1898995ac",
            "c952234455f042fbaf8dc6418fd1655f",
            "bbea446529474845b4fd9246f3834600",
            "5b283e8eedbc42a6a30a806e36f81c3f",
            "0fc7c91a65f742e6b9bdb8870a86ec2f",
            "0de07d5e35df4df3ac5458aedc57052c",
            "4f2c6650cc85438ca3d1e1ff5ae20eee",
            "562bb9ed1c8c43928ae66777f5f12ea0",
            "d8ba0c62ff614b7499c23a0722a5e4b0",
            "cbf8c411e72547fc9acb1459ed36e495",
            "6bc838547afd4e26aa64767795f11dfc"
          ]
        },
        "id": "sYk7wabwQuIC",
        "outputId": "30d67633-904e-4a54-f4ef-34c78f5b6c76"
      },
      "source": [
        "ncf_model.cuda() # move model to GPU\n",
        "# create test predictions\n",
        "top10 = []\n",
        "hits = []\n",
        "\n",
        "for user in tqdm(user_ids):\n",
        "    userlist = test[test['user_id']==user]['user_id']\n",
        "    itemlist = test[test['user_id']==user]['item_id']\n",
        "    preds = getTop10(userlist, itemlist, ncf_model)\n",
        "    top10.append(preds)"
      ],
      "execution_count": 49,
      "outputs": [
        {
          "output_type": "display_data",
          "data": {
            "application/vnd.jupyter.widget-view+json": {
              "model_id": "9ee4006bf44a4601a90bb8f1898995ac",
              "version_minor": 0,
              "version_major": 2
            },
            "text/plain": [
              "  0%|          | 0/2239 [00:00<?, ?it/s]"
            ]
          },
          "metadata": {}
        }
      ]
    },
    {
      "cell_type": "code",
      "metadata": {
        "id": "aEJHzepMRpK9"
      },
      "source": [
        "# flatten the list\n",
        "final = [item for sublist in top10 for item in sublist]\n",
        "final = [item for sublist in final for item in sublist]"
      ],
      "execution_count": 50,
      "outputs": []
    },
    {
      "cell_type": "code",
      "metadata": {
        "id": "hOjFQiu8Rqna"
      },
      "source": [
        "final = pd.DataFrame(final)\n",
        "final.columns = ['user_id', 'item_id', 'rating'] # remove rating from csv - rating is only here for observation\n",
        "final.to_csv('/content/drive/MyDrive/FIT5212_A2/sadia-NCF-3.csv')"
      ],
      "execution_count": null,
      "outputs": []
    },
    {
      "cell_type": "markdown",
      "metadata": {
        "id": "pATecZG23q-1"
      },
      "source": [
        "\n",
        "\n",
        "---\n",
        "\n",
        "> # Part 2\n"
      ]
    },
    {
      "cell_type": "code",
      "metadata": {
        "id": "TyEa4xs7dsVs"
      },
      "source": [
        "%matplotlib inline\n",
        "import matplotlib.pyplot as plt\n",
        "import numpy as np\n",
        "import pandas as pd\n",
        "import csv\n",
        "import re\n",
        "import networkx as nx\n",
        "from sklearn.model_selection import train_test_split\n",
        "\n",
        "from sklearn.ensemble import RandomForestClassifier\n",
        "from sklearn.neighbors import KNeighborsClassifier\n",
        "from sklearn.linear_model import LogisticRegressionCV\n",
        "\n",
        "from sklearn.metrics import plot_confusion_matrix\n",
        "\n",
        "from sklearn.metrics import accuracy_score"
      ],
      "execution_count": 3,
      "outputs": []
    },
    {
      "cell_type": "markdown",
      "metadata": {
        "id": "1e5NlICUcEej"
      },
      "source": [
        "> ### Load data"
      ]
    },
    {
      "cell_type": "code",
      "metadata": {
        "colab": {
          "base_uri": "https://localhost:8080/",
          "height": 419
        },
        "id": "zDw746WGXseY",
        "outputId": "2880570f-7663-41f7-e506-a2835638bf13"
      },
      "source": [
        "input = open(\"/content/drive/MyDrive/FIT5212_A2/docs.txt\") #open text file\n",
        "reader = csv.reader(input)\n",
        "\n",
        "output=[]\n",
        "\n",
        "for line in reader:\n",
        "    splits = re.search(r\"(^\\d+)\\s+(.*)\", line[0]) # split each line to get the node id and doc title\n",
        "    id = splits.group(1)\n",
        "    title = splits.group(2).strip()\n",
        "    output.append([id, title])\n",
        "\n",
        "docs = pd.DataFrame(output, columns=['node_id', 'doc_title']) # convert to df\n",
        "docs "
      ],
      "execution_count": 6,
      "outputs": [
        {
          "output_type": "execute_result",
          "data": {
            "text/html": [
              "<div>\n",
              "<style scoped>\n",
              "    .dataframe tbody tr th:only-of-type {\n",
              "        vertical-align: middle;\n",
              "    }\n",
              "\n",
              "    .dataframe tbody tr th {\n",
              "        vertical-align: top;\n",
              "    }\n",
              "\n",
              "    .dataframe thead th {\n",
              "        text-align: right;\n",
              "    }\n",
              "</style>\n",
              "<table border=\"1\" class=\"dataframe\">\n",
              "  <thead>\n",
              "    <tr style=\"text-align: right;\">\n",
              "      <th></th>\n",
              "      <th>node_id</th>\n",
              "      <th>doc_title</th>\n",
              "    </tr>\n",
              "  </thead>\n",
              "  <tbody>\n",
              "    <tr>\n",
              "      <th>0</th>\n",
              "      <td>12828558</td>\n",
              "      <td>Assessing Local Institutional Capacity</td>\n",
              "    </tr>\n",
              "    <tr>\n",
              "      <th>1</th>\n",
              "      <td>66779408</td>\n",
              "      <td>THE PROSPECTS FOR INTERNET TELEPHONY IN EUROPE...</td>\n",
              "    </tr>\n",
              "    <tr>\n",
              "      <th>2</th>\n",
              "      <td>38902949</td>\n",
              "      <td>Economic Shocks</td>\n",
              "    </tr>\n",
              "    <tr>\n",
              "      <th>3</th>\n",
              "      <td>33450563</td>\n",
              "      <td>Reform</td>\n",
              "    </tr>\n",
              "    <tr>\n",
              "      <th>4</th>\n",
              "      <td>57470294</td>\n",
              "      <td>Households and Economic Growth in Latin Americ...</td>\n",
              "    </tr>\n",
              "    <tr>\n",
              "      <th>...</th>\n",
              "      <td>...</td>\n",
              "      <td>...</td>\n",
              "    </tr>\n",
              "    <tr>\n",
              "      <th>18715</th>\n",
              "      <td>39790331</td>\n",
              "      <td>ORIGINAL ARTICLE Effect of Alzheimer Disease R...</td>\n",
              "    </tr>\n",
              "    <tr>\n",
              "      <th>18716</th>\n",
              "      <td>47870669</td>\n",
              "      <td>BRIEF REPORTS Predictors of Posttraumatic Stre...</td>\n",
              "    </tr>\n",
              "    <tr>\n",
              "      <th>18717</th>\n",
              "      <td>28485685</td>\n",
              "      <td>Anticipating the cultural aspects of sharing f...</td>\n",
              "    </tr>\n",
              "    <tr>\n",
              "      <th>18718</th>\n",
              "      <td>48611755</td>\n",
              "      <td>BMC Psychiatry BioMed Central</td>\n",
              "    </tr>\n",
              "    <tr>\n",
              "      <th>18719</th>\n",
              "      <td>24384084</td>\n",
              "      <td>Director’s Column: A Laboratory for Human Rela...</td>\n",
              "    </tr>\n",
              "  </tbody>\n",
              "</table>\n",
              "<p>18720 rows × 2 columns</p>\n",
              "</div>"
            ],
            "text/plain": [
              "        node_id                                          doc_title\n",
              "0      12828558             Assessing Local Institutional Capacity\n",
              "1      66779408  THE PROSPECTS FOR INTERNET TELEPHONY IN EUROPE...\n",
              "2      38902949                                    Economic Shocks\n",
              "3      33450563                                             Reform\n",
              "4      57470294  Households and Economic Growth in Latin Americ...\n",
              "...         ...                                                ...\n",
              "18715  39790331  ORIGINAL ARTICLE Effect of Alzheimer Disease R...\n",
              "18716  47870669  BRIEF REPORTS Predictors of Posttraumatic Stre...\n",
              "18717  28485685  Anticipating the cultural aspects of sharing f...\n",
              "18718  48611755                      BMC Psychiatry BioMed Central\n",
              "18719  24384084  Director’s Column: A Laboratory for Human Rela...\n",
              "\n",
              "[18720 rows x 2 columns]"
            ]
          },
          "metadata": {},
          "execution_count": 6
        }
      ]
    },
    {
      "cell_type": "code",
      "metadata": {
        "id": "fBByDNR3cVn_"
      },
      "source": [
        "# read adjlist into a graph\n",
        "G = nx.read_adjlist('/content/drive/MyDrive/FIT5212_A2/adjedges.txt', create_using = nx.Graph(), nodetype = str)"
      ],
      "execution_count": 7,
      "outputs": []
    },
    {
      "cell_type": "code",
      "metadata": {
        "colab": {
          "base_uri": "https://localhost:8080/",
          "height": 419
        },
        "id": "yZznYg1mcXfx",
        "outputId": "7889ca88-2946-4052-fbd2-dc101b7454c9"
      },
      "source": [
        "# Load labels data\n",
        "input = open(\"/content/drive/MyDrive/FIT5212_A2/labels.txt\")\n",
        "reader = csv.reader(input)\n",
        "\n",
        "output=[]\n",
        "\n",
        "for line in reader:\n",
        "    splits = re.search(r\"(^\\d*)\\s(\\d)\", line[0])\n",
        "    id = splits.group(1)\n",
        "    label = int(splits.group(2).strip())\n",
        "    output.append([id, label])\n",
        "\n",
        "labels = pd.DataFrame(output, columns=['node_id', 'label'])\n",
        "labels # output will be pandas DataFrame with values"
      ],
      "execution_count": 8,
      "outputs": [
        {
          "output_type": "execute_result",
          "data": {
            "text/html": [
              "<div>\n",
              "<style scoped>\n",
              "    .dataframe tbody tr th:only-of-type {\n",
              "        vertical-align: middle;\n",
              "    }\n",
              "\n",
              "    .dataframe tbody tr th {\n",
              "        vertical-align: top;\n",
              "    }\n",
              "\n",
              "    .dataframe thead th {\n",
              "        text-align: right;\n",
              "    }\n",
              "</style>\n",
              "<table border=\"1\" class=\"dataframe\">\n",
              "  <thead>\n",
              "    <tr style=\"text-align: right;\">\n",
              "      <th></th>\n",
              "      <th>node_id</th>\n",
              "      <th>label</th>\n",
              "    </tr>\n",
              "  </thead>\n",
              "  <tbody>\n",
              "    <tr>\n",
              "      <th>0</th>\n",
              "      <td>12828558</td>\n",
              "      <td>0</td>\n",
              "    </tr>\n",
              "    <tr>\n",
              "      <th>1</th>\n",
              "      <td>66779408</td>\n",
              "      <td>0</td>\n",
              "    </tr>\n",
              "    <tr>\n",
              "      <th>2</th>\n",
              "      <td>38902949</td>\n",
              "      <td>0</td>\n",
              "    </tr>\n",
              "    <tr>\n",
              "      <th>3</th>\n",
              "      <td>33450563</td>\n",
              "      <td>0</td>\n",
              "    </tr>\n",
              "    <tr>\n",
              "      <th>4</th>\n",
              "      <td>57470294</td>\n",
              "      <td>0</td>\n",
              "    </tr>\n",
              "    <tr>\n",
              "      <th>...</th>\n",
              "      <td>...</td>\n",
              "      <td>...</td>\n",
              "    </tr>\n",
              "    <tr>\n",
              "      <th>18715</th>\n",
              "      <td>39790331</td>\n",
              "      <td>4</td>\n",
              "    </tr>\n",
              "    <tr>\n",
              "      <th>18716</th>\n",
              "      <td>47870669</td>\n",
              "      <td>4</td>\n",
              "    </tr>\n",
              "    <tr>\n",
              "      <th>18717</th>\n",
              "      <td>28485685</td>\n",
              "      <td>4</td>\n",
              "    </tr>\n",
              "    <tr>\n",
              "      <th>18718</th>\n",
              "      <td>48611755</td>\n",
              "      <td>4</td>\n",
              "    </tr>\n",
              "    <tr>\n",
              "      <th>18719</th>\n",
              "      <td>24384084</td>\n",
              "      <td>4</td>\n",
              "    </tr>\n",
              "  </tbody>\n",
              "</table>\n",
              "<p>18720 rows × 2 columns</p>\n",
              "</div>"
            ],
            "text/plain": [
              "        node_id  label\n",
              "0      12828558      0\n",
              "1      66779408      0\n",
              "2      38902949      0\n",
              "3      33450563      0\n",
              "4      57470294      0\n",
              "...         ...    ...\n",
              "18715  39790331      4\n",
              "18716  47870669      4\n",
              "18717  28485685      4\n",
              "18718  48611755      4\n",
              "18719  24384084      4\n",
              "\n",
              "[18720 rows x 2 columns]"
            ]
          },
          "metadata": {},
          "execution_count": 8
        }
      ]
    },
    {
      "cell_type": "code",
      "metadata": {
        "colab": {
          "base_uri": "https://localhost:8080/"
        },
        "id": "7reUkUHCbhnR",
        "outputId": "046e3e76-a329-4a88-d9c9-e4f7db79166c"
      },
      "source": [
        "# merge labels and title dfs together to create single df \n",
        "df = docs.merge(labels, on='node_id', how='left')\n",
        "print(df.head())\n",
        "print('\\n-----\\n')\n",
        "print(df['label'].value_counts())"
      ],
      "execution_count": 9,
      "outputs": [
        {
          "output_type": "stream",
          "name": "stdout",
          "text": [
            "    node_id                                          doc_title  label\n",
            "0  12828558             Assessing Local Institutional Capacity      0\n",
            "1  66779408  THE PROSPECTS FOR INTERNET TELEPHONY IN EUROPE...      0\n",
            "2  38902949                                    Economic Shocks      0\n",
            "3  33450563                                             Reform      0\n",
            "4  57470294  Households and Economic Growth in Latin Americ...      0\n",
            "\n",
            "-----\n",
            "\n",
            "0    5860\n",
            "2    4421\n",
            "1    3941\n",
            "3    2703\n",
            "4    1795\n",
            "Name: label, dtype: int64\n"
          ]
        }
      ]
    },
    {
      "cell_type": "markdown",
      "metadata": {
        "id": "Lnd3czkBb2PG"
      },
      "source": [
        "> ## Node2Vec\n",
        "\n",
        "The Node2Vec algorithm introduced is a 2-step representation learning algorithm. The two steps are:\n",
        "\n",
        "1. Use second-order random walks to generate sentences from a graph. A sentence is a list of node ids. The set of all sentences makes a corpus.\n",
        "\n",
        "2. The corpus is then used to learn an embedding vector for each node in the graph. Each node id is considered a unique word/token in a dictionary that has size equal to the number of nodes in the graph. The Word2Vec algorithm, is used for calculating the embedding vectors.\n",
        "\n",
        "Source: https://stellargraph.readthedocs.io/en/latest/demos/node-classification/node2vec-node-classification.html#The-Node2Vec-algorithm"
      ]
    },
    {
      "cell_type": "code",
      "metadata": {
        "id": "eVxTVobq3vQ3"
      },
      "source": [
        "!pip install 'Node2Vec'"
      ],
      "execution_count": null,
      "outputs": []
    },
    {
      "cell_type": "code",
      "metadata": {
        "id": "6WxKvuPY3vBe"
      },
      "source": [
        "from node2vec import Node2Vec\n",
        "\n",
        "import gensim\n",
        "from gensim.test.utils import datapath\n",
        "from gensim.models import Word2Vec"
      ],
      "execution_count": 53,
      "outputs": []
    },
    {
      "cell_type": "code",
      "metadata": {
        "id": "TS-Ugmircwap"
      },
      "source": [
        "# create model based on graph\n",
        "n2v = Node2Vec(G, dimensions=128, walk_length=80, num_walks=10, workers=4, seed=SEED)\n",
        "\n",
        "# fit model on graph data\n",
        "n2v_model = n2v.fit(window=5, min_count=1) "
      ],
      "execution_count": 62,
      "outputs": []
    },
    {
      "cell_type": "code",
      "metadata": {
        "id": "cH8ZBqWkcycE"
      },
      "source": [
        "# load or save model\n",
        "filepath = datapath(\"/content/drive/MyDrive/FIT5212_A2/node2vec0610.model\") # filepath where model is saved\n",
        "# n2v_model.save(filepath)\n",
        "n2v_model = gensim.models.Word2Vec.load(filepath) # load saved model"
      ],
      "execution_count": 63,
      "outputs": []
    },
    {
      "cell_type": "code",
      "metadata": {
        "id": "uyE46OMddJpE"
      },
      "source": [
        "y = df['label']\n",
        "\n",
        "X = []\n",
        "\n",
        "# get embeddings for each node\n",
        "for i in df['node_id'].values:\n",
        "    X.append(n2v_model.wv.__getitem__(str(i)))\n",
        "\n",
        "# Train/test split\n",
        "X_train, X_test, y_train, y_test = train_test_split(X, y, test_size=0.3, stratify=df['label'], random_state=SEED)"
      ],
      "execution_count": 64,
      "outputs": []
    },
    {
      "cell_type": "code",
      "metadata": {
        "colab": {
          "base_uri": "https://localhost:8080/"
        },
        "id": "M4EFyY7ydLEy",
        "outputId": "7312c15f-6b1e-4964-9fcc-8ddb3794d0ff"
      },
      "source": [
        "# ensure split is stratified\n",
        "print('Train Labels')\n",
        "print(y_train.value_counts())\n",
        "print('-----\\nTest Labels')\n",
        "print(y_test.value_counts())"
      ],
      "execution_count": 65,
      "outputs": [
        {
          "output_type": "stream",
          "name": "stdout",
          "text": [
            "Train Labels\n",
            "0    4102\n",
            "2    3095\n",
            "1    2759\n",
            "3    1892\n",
            "4    1256\n",
            "Name: label, dtype: int64\n",
            "-----\n",
            "Test Labels\n",
            "0    1758\n",
            "2    1326\n",
            "1    1182\n",
            "3     811\n",
            "4     539\n",
            "Name: label, dtype: int64\n"
          ]
        }
      ]
    },
    {
      "cell_type": "markdown",
      "metadata": {
        "id": "shihgBxAdT7h"
      },
      "source": [
        "> ### RFC"
      ]
    },
    {
      "cell_type": "code",
      "metadata": {
        "colab": {
          "base_uri": "https://localhost:8080/",
          "height": 331
        },
        "id": "ERpT3POFdM6w",
        "outputId": "2f5a8ae1-4a46-4339-8218-77de500ebef2"
      },
      "source": [
        " # Train RFC model\n",
        "n2v_rfc = RandomForestClassifier(random_state=SEED)\n",
        "n2v_rfc.fit(X_train, y_train)\n",
        "\n",
        "# make predictions on test set \n",
        "y_preds = n2v_rfc.predict(X_test)\n",
        "\n",
        "# evaluate\n",
        "acc = accuracy_score(y_test, y_preds)\n",
        "\n",
        "print(\"Node2Vec + Random Forest Classifier Accuracy: {:.4}\".format(acc), \"\\n\")\n",
        "\n",
        "plot_confusion_matrix(n2v_rfc, X_test, y_test, cmap=plt.cm.Blues, values_format = '.5g')"
      ],
      "execution_count": 66,
      "outputs": [
        {
          "output_type": "stream",
          "name": "stdout",
          "text": [
            "Node2Vec + Random Forest Classifier Accuracy: 0.6439 \n",
            "\n"
          ]
        },
        {
          "output_type": "execute_result",
          "data": {
            "text/plain": [
              "<sklearn.metrics._plot.confusion_matrix.ConfusionMatrixDisplay at 0x7f4c9363ee90>"
            ]
          },
          "metadata": {},
          "execution_count": 66
        },
        {
          "output_type": "display_data",
          "data": {
            "image/png": "[encoded data removed]",
            "text/plain": [
              "<Figure size 432x288 with 2 Axes>"
            ]
          },
          "metadata": {
            "needs_background": "light"
          }
        }
      ]
    },
    {
      "cell_type": "markdown",
      "metadata": {
        "id": "e51Na9-KdYAj"
      },
      "source": [
        "> ### Logistic Regression CV"
      ]
    },
    {
      "cell_type": "code",
      "metadata": {
        "colab": {
          "base_uri": "https://localhost:8080/",
          "height": 330
        },
        "id": "TDH8J2_4daFi",
        "outputId": "9635b28c-6d67-4358-c84a-92bf4bb7f793"
      },
      "source": [
        "# Logistic Regression with Cross Validation\n",
        "# function will automatically apply 10-fold cross validation to find the best hyperparameters\n",
        "n2v_logreg = LogisticRegressionCV(cv=10, scoring=\"accuracy\", random_state=SEED)\n",
        "\n",
        "# classifier learns the training data\n",
        "n2v_logreg.fit(X_train, y_train)\n",
        "\n",
        "# make predictions on test set \n",
        "y_preds = n2v_logreg.predict(X_test)\n",
        "\n",
        "# evaluate\n",
        "acc = accuracy_score(y_test, y_preds)\n",
        "\n",
        "print(\"Node2Vec + LogRegCV Accuracy: {:.4}\".format(acc), \"\\n\")\n",
        "\n",
        "plot_confusion_matrix(n2v_logreg, X_test, y_test, cmap=plt.cm.Blues, values_format = '.5g')"
      ],
      "execution_count": 67,
      "outputs": [
        {
          "output_type": "stream",
          "name": "stdout",
          "text": [
            "Node2Vec + LogRegCV Accuracy: 0.5796 \n",
            "\n"
          ]
        },
        {
          "output_type": "execute_result",
          "data": {
            "text/plain": [
              "<sklearn.metrics._plot.confusion_matrix.ConfusionMatrixDisplay at 0x7f4c8ed51050>"
            ]
          },
          "metadata": {},
          "execution_count": 67
        },
        {
          "output_type": "display_data",
          "data": {
            "image/png": "[encoded data removed]",
            "text/plain": [
              "<Figure size 432x288 with 2 Axes>"
            ]
          },
          "metadata": {
            "needs_background": "light"
          }
        }
      ]
    },
    {
      "cell_type": "markdown",
      "metadata": {
        "id": "S9zA3TBmda56"
      },
      "source": [
        "> ### K Nearest Neighbours"
      ]
    },
    {
      "cell_type": "code",
      "metadata": {
        "colab": {
          "base_uri": "https://localhost:8080/",
          "height": 330
        },
        "id": "Y0SSzA1ZdeEc",
        "outputId": "f1663fd1-b7a8-441b-fe41-7b552141225b"
      },
      "source": [
        "n2v_knc = KNeighborsClassifier()\n",
        "\n",
        "n2v_knc.fit(X_train, y_train)\n",
        "\n",
        "# make predictions on test set \n",
        "y_preds = n2v_knc.predict(X_test)\n",
        "\n",
        "# evaluate\n",
        "acc = accuracy_score(y_test, y_preds)\n",
        "\n",
        "print(\"Node2Vec + K Nearest Neighbours Accuracy: {:.4}\".format(acc), \"\\n\")\n",
        "\n",
        "plot_confusion_matrix(n2v_knc, X_test, y_test, cmap=plt.cm.Blues, values_format = '.5g')"
      ],
      "execution_count": 68,
      "outputs": [
        {
          "output_type": "stream",
          "name": "stdout",
          "text": [
            "Node2Vec + K Nearest Neighbours Accuracy: 0.6172 \n",
            "\n"
          ]
        },
        {
          "output_type": "execute_result",
          "data": {
            "text/plain": [
              "<sklearn.metrics._plot.confusion_matrix.ConfusionMatrixDisplay at 0x7f4c8ea69a90>"
            ]
          },
          "metadata": {},
          "execution_count": 68
        },
        {
          "output_type": "display_data",
          "data": {
            "image/png": "[encoded data removed]",
            "text/plain": [
              "<Figure size 432x288 with 2 Axes>"
            ]
          },
          "metadata": {
            "needs_background": "light"
          }
        }
      ]
    },
    {
      "cell_type": "markdown",
      "metadata": {
        "id": "z5bTbenLe4sZ"
      },
      "source": [
        "> ## DeepWalk\n",
        "\n",
        "DeepWalk is an algorithm that is used to create embeddings of the nodes in a graph. The embeddings are meant to encode the community structure of the graph. It achieves this by using SkipGram to create the embeddings.\n",
        "\n",
        "https://medium.com/@_init_/an-illustrated-explanation-of-using-skipgram-to-encode-the-structure-of-a-graph-deepwalk-6220e304d71b"
      ]
    },
    {
      "cell_type": "code",
      "metadata": {
        "id": "yu9u0cbtfgxQ"
      },
      "source": [
        "!pip install 'karateclub' # runtime needs to be restarted after installing to use new version of gensim"
      ],
      "execution_count": null,
      "outputs": []
    },
    {
      "cell_type": "code",
      "metadata": {
        "id": "If2QZuZKiXNS"
      },
      "source": [
        "from karateclub import DeepWalk"
      ],
      "execution_count": 4,
      "outputs": []
    },
    {
      "cell_type": "code",
      "metadata": {
        "id": "zE5cKvxkfk9Y"
      },
      "source": [
        "# convert labels to integers to be compatible with deepwalk algorithm\n",
        "intG = nx.relabel.convert_node_labels_to_integers(G)"
      ],
      "execution_count": 10,
      "outputs": []
    },
    {
      "cell_type": "code",
      "metadata": {
        "id": "bVxIrWFKflZX"
      },
      "source": [
        "# create and fit model on graph\n",
        "dw_model = DeepWalk()\n",
        "dw_model.fit(intG)\n",
        "dw_embedding = dw_model.get_embedding()"
      ],
      "execution_count": 11,
      "outputs": []
    },
    {
      "cell_type": "code",
      "metadata": {
        "id": "oZDwlyczfmp_"
      },
      "source": [
        "# get nodes from graph\n",
        "Gnodes = []\n",
        "for i in G.nodes():\n",
        "    Gnodes.append(i)\n",
        "df_Gnodes = pd.DataFrame(Gnodes)"
      ],
      "execution_count": 12,
      "outputs": []
    },
    {
      "cell_type": "code",
      "metadata": {
        "id": "mTiLo-Vvfwur"
      },
      "source": [
        "# get the label and embeddings for each labelled node\n",
        "y = df['label']\n",
        "\n",
        "X = []\n",
        "\n",
        "# get embeddings for each node\n",
        "for i in df['node_id'].values:\n",
        "    idx = df_Gnodes.loc[df_Gnodes[0] == str(i)].index[0]\n",
        "    X.append(dw_embedding[idx])"
      ],
      "execution_count": 13,
      "outputs": []
    },
    {
      "cell_type": "code",
      "metadata": {
        "id": "Enw5Gpn7fyLk"
      },
      "source": [
        "# Train/test split\n",
        "X_train, X_test, y_train, y_test = train_test_split(X, y, test_size=0.3, stratify=df['label'], random_state=SEED)"
      ],
      "execution_count": 19,
      "outputs": []
    },
    {
      "cell_type": "markdown",
      "metadata": {
        "id": "yGEHpK1wf0Ov"
      },
      "source": [
        "> ### RFC"
      ]
    },
    {
      "cell_type": "code",
      "metadata": {
        "colab": {
          "base_uri": "https://localhost:8080/",
          "height": 333
        },
        "id": "ajAoR9oLfzrz",
        "outputId": "f7832daa-14ba-486e-ea1d-2e8f00e79936"
      },
      "source": [
        "# Train RFC model\n",
        "dw_rfc = RandomForestClassifier(random_state=SEED)\n",
        "dw_rfc.fit(X_train, y_train)\n",
        "\n",
        "# make predictions on test set \n",
        "y_preds = dw_rfc.predict(X_test)\n",
        "\n",
        "# evaluate\n",
        "acc = accuracy_score(y_test, y_preds)\n",
        "\n",
        "print(\"DeepWalk + Random Forest Classifier Accuracy: {:.4}\".format(acc), \"\\n\")\n",
        "\n",
        "plot_confusion_matrix(dw_rfc, X_test, y_test, cmap=plt.cm.Blues, values_format = '.5g')"
      ],
      "execution_count": 20,
      "outputs": [
        {
          "output_type": "stream",
          "name": "stdout",
          "text": [
            "DeepWalk + Random Forest Classifier Accuracy: 0.8056 \n",
            "\n"
          ]
        },
        {
          "output_type": "execute_result",
          "data": {
            "text/plain": [
              "<sklearn.metrics._plot.confusion_matrix.ConfusionMatrixDisplay at 0x7fb51bfb6cd0>"
            ]
          },
          "metadata": {},
          "execution_count": 20
        },
        {
          "output_type": "display_data",
          "data": {
            "image/png": "[encoded data removed]",
            "text/plain": [
              "<Figure size 432x288 with 2 Axes>"
            ]
          },
          "metadata": {
            "needs_background": "light"
          }
        }
      ]
    },
    {
      "cell_type": "markdown",
      "metadata": {
        "id": "XG5jxHxKf20D"
      },
      "source": [
        "> ### Logistic Regression CV"
      ]
    },
    {
      "cell_type": "code",
      "metadata": {
        "colab": {
          "base_uri": "https://localhost:8080/",
          "height": 333
        },
        "id": "XZBmtC_Zf5xS",
        "outputId": "0c2bc27d-1889-4bc0-f860-7eb3328d14da"
      },
      "source": [
        "# Logistic Regression with Cross Validation\n",
        "# function will automatically apply 10-fold cross validation to find the best hyperparameters\n",
        "dw_logreg = LogisticRegressionCV(cv=10, scoring=\"accuracy\", random_state=SEED)\n",
        "\n",
        "# classifier learns the training data\n",
        "dw_logreg.fit(X_train, y_train)\n",
        "\n",
        "# make predictions on test set \n",
        "y_preds = dw_logreg.predict(X_test)\n",
        "\n",
        "# evaluate\n",
        "acc = accuracy_score(y_test, y_preds)\n",
        "\n",
        "print(\"DeepWalk + LogRegCV Accuracy: {:.4}\".format(acc), \"\\n\")\n",
        "\n",
        "plot_confusion_matrix(dw_logreg, X_test, y_test, cmap=plt.cm.Blues, values_format = '.5g')"
      ],
      "execution_count": 21,
      "outputs": [
        {
          "output_type": "stream",
          "name": "stdout",
          "text": [
            "DeepWalk + LogRegCV Accuracy: 0.7819 \n",
            "\n"
          ]
        },
        {
          "output_type": "execute_result",
          "data": {
            "text/plain": [
              "<sklearn.metrics._plot.confusion_matrix.ConfusionMatrixDisplay at 0x7fb531294b10>"
            ]
          },
          "metadata": {},
          "execution_count": 21
        },
        {
          "output_type": "display_data",
          "data": {
            "image/png": "[encoded data removed]",
            "text/plain": [
              "<Figure size 432x288 with 2 Axes>"
            ]
          },
          "metadata": {
            "needs_background": "light"
          }
        }
      ]
    },
    {
      "cell_type": "markdown",
      "metadata": {
        "id": "TxfA6DOIf86v"
      },
      "source": [
        "> ### K Nearest Neighbours"
      ]
    },
    {
      "cell_type": "code",
      "metadata": {
        "colab": {
          "base_uri": "https://localhost:8080/",
          "height": 330
        },
        "id": "ZKTsvXCBf8lG",
        "outputId": "52adf305-e471-42df-f06f-b0a66504f700"
      },
      "source": [
        "dw_knc = KNeighborsClassifier(n_neighbors=3)\n",
        "\n",
        "dw_knc.fit(X_train, y_train)\n",
        "\n",
        "# make predictions on test set \n",
        "y_preds = dw_knc.predict(X_test)\n",
        "\n",
        "# evaluate\n",
        "acc = accuracy_score(y_test, y_preds)\n",
        "\n",
        "print(\"DeepWalk + K Nearest Neighbours Accuracy: {:.4}\".format(acc), \"\\n\")\n",
        "\n",
        "plot_confusion_matrix(dw_knc, X_test, y_test, cmap=plt.cm.Blues, values_format = '.5g')"
      ],
      "execution_count": 22,
      "outputs": [
        {
          "output_type": "stream",
          "name": "stdout",
          "text": [
            "DeepWalk + K Nearest Neighbours Accuracy: 0.6797 \n",
            "\n"
          ]
        },
        {
          "output_type": "execute_result",
          "data": {
            "text/plain": [
              "<sklearn.metrics._plot.confusion_matrix.ConfusionMatrixDisplay at 0x7fb4b7559350>"
            ]
          },
          "metadata": {},
          "execution_count": 22
        },
        {
          "output_type": "display_data",
          "data": {
            "image/png": "[encoded data removed]",
            "text/plain": [
              "<Figure size 432x288 with 2 Axes>"
            ]
          },
          "metadata": {
            "needs_background": "light"
          }
        }
      ]
    }
  ]
}